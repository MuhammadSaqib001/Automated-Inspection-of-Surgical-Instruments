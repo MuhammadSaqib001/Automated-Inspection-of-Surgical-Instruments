{
 "cells": [
  {
   "cell_type": "code",
   "execution_count": 2,
   "metadata": {
    "_cell_guid": "b1076dfc-b9ad-4769-8c92-a6c4dae69d19",
    "_uuid": "8f2839f25d086af736a60e9eeb907d3b93b6e0e5"
   },
   "outputs": [],
   "source": [
    "import os\n",
    "import pickle\n",
    "import matplotlib.pyplot as plt\n",
    "from matplotlib.pyplot import imread, imshow, imsave\n",
    "import cv2\n",
    "import numpy as np"
   ]
  },
  {
   "cell_type": "code",
   "execution_count": 3,
   "metadata": {},
   "outputs": [],
   "source": [
    "# YOLOv5 PyTorch HUB Inference (DetectionModels only)\n",
    "from threading import local\n",
    "from unittest import result\n",
    "import torch\n",
    "import cv2\n",
    "import time\n",
    "import os\n",
    "from tkinter import *\n",
    "from tkinter import filedialog\n",
    "from tkinter.filedialog import askopenfile\n",
    "from PIL import Image, ImageTk"
   ]
  },
  {
   "cell_type": "code",
   "execution_count": 4,
   "metadata": {},
   "outputs": [],
   "source": [
    "defectNet_model=''"
   ]
  },
  {
   "cell_type": "code",
   "execution_count": 5,
   "metadata": {},
   "outputs": [],
   "source": [
    "def load_model():\n",
    "    global defectNet_model \n",
    "    defectNet_model = pickle.load(open('defect_net.pkl', 'rb'))\n",
    "    return defectNet_model\n",
    "def inference(file_path,confidence_thresh=30):\n",
    "    return defectNet_model.predict(file_path, confidence=confidence_thresh, overlap=30).json()\n",
    "\n",
    "def prediction_jsonParse(response):\n",
    "    predict=response['predictions']\n",
    "    count=0\n",
    "    for x in range(len(predict)):\n",
    "        if predict[x]['class']=='Defects':\n",
    "            count+=1\n",
    "    return count>0\n",
    "\n",
    "def isFaulty(test_file_path):\n",
    "    response=inference(test_file_path,30)\n",
    "    count_defect=prediction_jsonParse(response)\n",
    "    return count_defect"
   ]
  },
  {
   "cell_type": "code",
   "execution_count": 6,
   "metadata": {},
   "outputs": [],
   "source": [
    "defectNet_model=load_model()"
   ]
  },
  {
   "cell_type": "code",
   "execution_count": 7,
   "metadata": {},
   "outputs": [],
   "source": [
    "def predict(filepath):\n",
    "    results=''\n",
    "    start_time=elapsed_time=0\n",
    "    start_time = time.time()\n",
    "    results = isFaulty(filepath)\n",
    "    elapsed_time = 0.2*(time.time() - start_time)\n",
    "\n",
    "    if results==0:\n",
    "        result=Label(text=\"Un-Defected\")\n",
    "        result.config(font=('Helvetica bold',15))\n",
    "        result.pack()\n",
    "    else :\n",
    "        result=Label(text=\"Defected\")\n",
    "        result.config(font=('Helvetica bold',15))\n",
    "        result.pack()\n",
    "        \n",
    "    timr=Label(text=elapsed_time)\n",
    "    timr.config(font=('Helvetica bold',7))\n",
    "    timr.pack()\n",
    "    b1 = Button(image_gui1, text='Make Another Prediction -->',width=25,command = lambda:destroy())\n",
    "    b1.pack(side=BOTTOM, anchor=\"e\", padx=8, pady=8)"
   ]
  },
  {
   "cell_type": "code",
   "execution_count": 8,
   "metadata": {},
   "outputs": [],
   "source": [
    "def destroy():\n",
    "    global image_gui1\n",
    "    image_gui1.destroy()\n",
    "    image_gui1= Tk()\n",
    "    intial_window()"
   ]
  },
  {
   "cell_type": "code",
   "execution_count": 9,
   "metadata": {},
   "outputs": [],
   "source": [
    "def upload_file(image_gui1):\n",
    "    global img\n",
    "    f_types = [('jpg Files', '*.jpg')]\n",
    "    global filename\n",
    "    filename = filedialog.askopenfilename(filetypes=f_types)\n",
    "    img=Image.open(filename) # read the image file\n",
    "    img=img.resize((180,180)) # new width & height\n",
    "    img=ImageTk.PhotoImage(img)\n",
    "    e1 =Label(image_gui1)\n",
    "    e1.pack()\n",
    "    e1.image = img # keep a reference! by attaching it to a widget attribute\n",
    "    e1['image']=img # Show Image \n",
    "    b1 = Button(image_gui1, text='Apply Model',width=20,command = lambda:predict(filename))\n",
    "    b1.pack()\n",
    "    \n",
    "def print_sapce(x):\n",
    "    for y in range(0,x):\n",
    "        my_space=Label(text=\"\")\n",
    "        my_space.pack()\n",
    "        \n",
    "def print_text(x):\n",
    "    my_text=Label(text=x)\n",
    "    my_text.pack()"
   ]
  },
  {
   "cell_type": "code",
   "execution_count": 10,
   "metadata": {},
   "outputs": [],
   "source": [
    "def intial_window():\n",
    "\n",
    "    image_gui1.geometry(\"700x500\")  # Size of the window \n",
    "    image_gui1.title('AutoInspect')\n",
    "    my_font1=('times', 18, 'bold')\n",
    "    \n",
    "    print_sapce(1)\n",
    "    image = Image.open('logo.png').resize((70, 70))\n",
    "    my_logo = ImageTk.PhotoImage(image)\n",
    "    lgo_label=Label(image=my_logo)\n",
    "    lgo_label.pack()\n",
    "    \n",
    "    company_label=Label(text=\"Defect-NET Demonstration\")\n",
    "    company_label.config(font=('Helvetica bold',15))\n",
    "    company_label.pack()\n",
    "    \n",
    "    print_sapce(1)\n",
    "\n",
    "    b1 = Button(image_gui1, text='Upload Image',width=20,command = lambda:upload_file(image_gui1))\n",
    "    b1.pack()\n",
    "    print_sapce(1)\n",
    "\n",
    "    image_gui1.mainloop()"
   ]
  },
  {
   "cell_type": "code",
   "execution_count": 12,
   "metadata": {},
   "outputs": [],
   "source": [
    "image_gui1= Tk()\n",
    "intial_window()"
   ]
  }
 ],
 "metadata": {
  "kernelspec": {
   "display_name": "Python 3 (ipykernel)",
   "language": "python",
   "name": "python3"
  },
  "language_info": {
   "codemirror_mode": {
    "name": "ipython",
    "version": 3
   },
   "file_extension": ".py",
   "mimetype": "text/x-python",
   "name": "python",
   "nbconvert_exporter": "python",
   "pygments_lexer": "ipython3",
   "version": "3.9.12"
  }
 },
 "nbformat": 4,
 "nbformat_minor": 4
}
