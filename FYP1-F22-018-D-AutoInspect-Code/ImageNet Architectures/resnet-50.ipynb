{
 "cells": [
  {
   "cell_type": "code",
   "execution_count": 1,
   "metadata": {
    "_cell_guid": "b1076dfc-b9ad-4769-8c92-a6c4dae69d19",
    "_uuid": "8f2839f25d086af736a60e9eeb907d3b93b6e0e5",
    "execution": {
     "iopub.execute_input": "2023-01-08T12:58:09.744839Z",
     "iopub.status.busy": "2023-01-08T12:58:09.744130Z",
     "iopub.status.idle": "2023-01-08T12:58:28.512388Z",
     "shell.execute_reply": "2023-01-08T12:58:28.510841Z",
     "shell.execute_reply.started": "2023-01-08T12:58:09.744683Z"
    }
   },
   "outputs": [
    {
     "name": "stdout",
     "output_type": "stream",
     "text": [
      "Collecting git+https://github.com/paulgavrikov/visualkeras\n",
      "  Cloning https://github.com/paulgavrikov/visualkeras to /tmp/pip-req-build-8jok3e3s\n",
      "  Running command git clone --filter=blob:none --quiet https://github.com/paulgavrikov/visualkeras /tmp/pip-req-build-8jok3e3s\n",
      "  Resolved https://github.com/paulgavrikov/visualkeras to commit d7111d3471173c0b16853a6ce5e4cc645498380a\n",
      "  Preparing metadata (setup.py) ... \u001b[?25ldone\n",
      "\u001b[?25hRequirement already satisfied: pillow>=6.2.0 in /opt/conda/lib/python3.7/site-packages (from visualkeras==0.0.2) (9.1.1)\n",
      "Requirement already satisfied: numpy>=1.18.1 in /opt/conda/lib/python3.7/site-packages (from visualkeras==0.0.2) (1.21.6)\n",
      "Collecting aggdraw>=1.3.11\n",
      "  Downloading aggdraw-1.3.15-cp37-cp37m-manylinux_2_17_x86_64.manylinux2014_x86_64.whl (989 kB)\n",
      "\u001b[2K     \u001b[90m━━━━━━━━━━━━━━━━━━━━━━━━━━━━━━━━━━━━━━━\u001b[0m \u001b[32m989.9/989.9 kB\u001b[0m \u001b[31m2.6 MB/s\u001b[0m eta \u001b[36m0:00:00\u001b[0ma \u001b[36m0:00:01\u001b[0m\n",
      "\u001b[?25hBuilding wheels for collected packages: visualkeras\n",
      "  Building wheel for visualkeras (setup.py) ... \u001b[?25ldone\n",
      "\u001b[?25h  Created wheel for visualkeras: filename=visualkeras-0.0.2-py3-none-any.whl size=13449 sha256=3f1ded5c300d4ba4a58ea90df5dc859793c88b7acfdbb2caaa327748ed33d601\n",
      "  Stored in directory: /tmp/pip-ephem-wheel-cache-sidz4vxd/wheels/b8/3b/cf/30a062e766188d5fe50abf3d461720943b7d09906e3d261a94\n",
      "Successfully built visualkeras\n",
      "Installing collected packages: aggdraw, visualkeras\n",
      "Successfully installed aggdraw-1.3.15 visualkeras-0.0.2\n",
      "\u001b[33mWARNING: Running pip as the 'root' user can result in broken permissions and conflicting behaviour with the system package manager. It is recommended to use a virtual environment instead: https://pip.pypa.io/warnings/venv\u001b[0m\u001b[33m\n",
      "\u001b[0m"
     ]
    }
   ],
   "source": [
    "!pip install 'git+https://github.com/paulgavrikov/visualkeras'"
   ]
  },
  {
   "cell_type": "code",
   "execution_count": 2,
   "metadata": {
    "execution": {
     "iopub.execute_input": "2023-01-08T12:58:28.516000Z",
     "iopub.status.busy": "2023-01-08T12:58:28.514956Z",
     "iopub.status.idle": "2023-01-08T12:58:36.240573Z",
     "shell.execute_reply": "2023-01-08T12:58:36.239282Z",
     "shell.execute_reply.started": "2023-01-08T12:58:28.515949Z"
    }
   },
   "outputs": [],
   "source": [
    "from tensorflow import keras \n",
    "from tensorflow.keras.models import Sequential\n",
    "from tensorflow.keras.layers import Conv2D\n",
    "from tensorflow.keras.layers import MaxPooling2D\n",
    "from tensorflow.keras.layers import Activation\n",
    "from tensorflow.keras.layers import Flatten\n",
    "from tensorflow.keras.layers import Dense\n",
    "import tensorflow.keras.optimizers\n",
    "import tensorflow as tf\n",
    "from tensorflow.keras.layers import BatchNormalization\n",
    "import os\n",
    "import matplotlib.pyplot as plt\n",
    "from matplotlib.pyplot import imread, imshow, imsave\n",
    "import cv2\n",
    "import numpy as np\n",
    "import tensorflow\n",
    "import visualkeras\n",
    "from sklearn.metrics import plot_confusion_matrix# This Python 3 environment comes with many helpful analytics libraries installed"
   ]
  },
  {
   "cell_type": "code",
   "execution_count": null,
   "metadata": {},
   "outputs": [],
   "source": []
  },
  {
   "cell_type": "code",
   "execution_count": 3,
   "metadata": {
    "execution": {
     "iopub.execute_input": "2023-01-08T12:58:36.242694Z",
     "iopub.status.busy": "2023-01-08T12:58:36.242079Z",
     "iopub.status.idle": "2023-01-08T12:58:36.259490Z",
     "shell.execute_reply": "2023-01-08T12:58:36.258034Z",
     "shell.execute_reply.started": "2023-01-08T12:58:36.242656Z"
    }
   },
   "outputs": [],
   "source": [
    "def load(file_path):\n",
    "    image = imread(file_path)\n",
    "    return image\n",
    "def display(image,title=\"Image\"):\n",
    "    plt.figure(figsize=[10,10])\n",
    "    channels=len(image.shape)\n",
    "    if channels<3:\n",
    "        plt.imshow(image,cmap='Greys_r');\n",
    "    else:\n",
    "        plt.imshow(image);      \n",
    "    plt.title(title);plt.axis(\"off\"); \n",
    "    \n",
    "def check_label(file_path):\n",
    "    if os.path.getsize(file_path) == 0:\n",
    "        return 0\n",
    "    else :\n",
    "        return 1\n",
    "def load_data(directory):\n",
    "    my_counter_0=0\n",
    "    my_counter_1=0\n",
    "    sequence=[\"x/train\",\"x/test\",\"x/valid\"]\n",
    "    train_data=[]\n",
    "    test_data=[]\n",
    "    valid_data=[]\n",
    "    \n",
    "    valid_labels=[]\n",
    "    test_labels=[]    \n",
    "    train_labels=[]\n",
    "    for x in sequence:\n",
    "        directory_search=directory+x[1:]+'/images'\n",
    "        for filename in os.listdir(directory_search):\n",
    "            f = os.path.join(directory_search, filename)\n",
    "            if os.path.isfile(f):\n",
    "                my_image=load(f)\n",
    "                resized = cv2.resize(my_image,(180,180), interpolation = cv2.INTER_AREA)\n",
    "                if x == 'x/train' :\n",
    "                    train_data.append(resized)\n",
    "                elif x == 'x/test' :\n",
    "                    test_data.append(resized)\n",
    "                else:\n",
    "                    valid_data.append(resized)\n",
    "    \n",
    "        directory_search=directory+x[1:]+'/labels'\n",
    "        for filename in os.listdir(directory_search):\n",
    "            f = os.path.join(directory_search, filename)\n",
    "            if os.path.isfile(f):\n",
    "                label=check_label(f)\n",
    "                if label==0:\n",
    "                    my_counter_0+=1\n",
    "                elif label==1:\n",
    "                    my_counter_1+=1\n",
    "                if x == 'x/train' :\n",
    "                    train_labels.append(label)\n",
    "                elif x == 'x/test' :\n",
    "                    test_labels.append(label)\n",
    "                else:\n",
    "                    valid_labels.append(label)\n",
    "    print(\"Defected Pictures : \",my_counter_1)\n",
    "    print(\"Non-Defected Pictures : \",my_counter_0)\n",
    "\n",
    "    return train_data,test_data,valid_data,train_labels,test_labels,valid_labels"
   ]
  },
  {
   "cell_type": "code",
   "execution_count": 4,
   "metadata": {
    "execution": {
     "iopub.execute_input": "2023-01-08T12:58:36.263551Z",
     "iopub.status.busy": "2023-01-08T12:58:36.262848Z",
     "iopub.status.idle": "2023-01-08T12:58:47.782146Z",
     "shell.execute_reply": "2023-01-08T12:58:47.780929Z",
     "shell.execute_reply.started": "2023-01-08T12:58:36.263493Z"
    }
   },
   "outputs": [
    {
     "name": "stdout",
     "output_type": "stream",
     "text": [
      "Defected Pictures :  993\n",
      "Non-Defected Pictures :  1109\n"
     ]
    }
   ],
   "source": [
    "train_data,test_data,valid_data,train_labels,test_labels,valid_labels=load_data(\"/kaggle/input/dataset-final/Defect_Detection_FinalVersion\")\n",
    "np_train_data=np.array(train_data)\n",
    "np_train_data = np_train_data.reshape((np_train_data.shape[0], 180,180, 3))\n",
    "np_train_data = np_train_data.astype(\"float32\") / 255.0\n",
    "np_train_labels = np.asarray(train_labels).astype('float32').reshape((-1,1))\n",
    "\n",
    "np_test_data=np.array(test_data)\n",
    "np_test_data = np_test_data.reshape((np_test_data.shape[0], 180,180, 3))\n",
    "np_test_data = np_test_data.astype(\"float32\") / 255.0\n",
    "np_test_labels = np.asarray(test_labels).astype('float32').reshape((-1,1))\n",
    "\n",
    "np_valid_data=np.array(valid_data)\n",
    "np_valid_data = np_valid_data.reshape((np_valid_data.shape[0], 180,180, 3))\n",
    "np_valid_data = np_valid_data.astype(\"float32\") / 255.0\n",
    "np_valid_labels = np.asarray(valid_labels).astype('float32').reshape((-1,1))"
   ]
  },
  {
   "cell_type": "code",
   "execution_count": 5,
   "metadata": {
    "execution": {
     "iopub.execute_input": "2023-01-08T12:58:47.783756Z",
     "iopub.status.busy": "2023-01-08T12:58:47.783395Z",
     "iopub.status.idle": "2023-01-08T12:58:47.792230Z",
     "shell.execute_reply": "2023-01-08T12:58:47.790784Z",
     "shell.execute_reply.started": "2023-01-08T12:58:47.783724Z"
    }
   },
   "outputs": [],
   "source": [
    "class Resnet_50:    \n",
    "\n",
    "    def build(imgRows, imgCols,numChannels,numClasses):\n",
    "        resnet_model = Sequential()\n",
    "        pretrained_resnet= tf.keras.applications.ResNet50V2(include_top=False,input_shape=(180,180,3),pooling='avg',classes=2,weights='imagenet',classifier_activation=\"relu\")\n",
    "        for each_layer in pretrained_resnet.layers:\n",
    "                each_layer.trainable=False\n",
    "\n",
    "        resnet_model.add(pretrained_resnet)\n",
    "        resnet_model.add(Dense(512, activation='relu'))\n",
    "        resnet_model.add(Dense(256, activation='relu'))\n",
    "        resnet_model.add(Dense(1, activation='sigmoid'))\n",
    "        return resnet_model"
   ]
  },
  {
   "cell_type": "code",
   "execution_count": 6,
   "metadata": {
    "execution": {
     "iopub.execute_input": "2023-01-08T12:58:47.796492Z",
     "iopub.status.busy": "2023-01-08T12:58:47.795342Z",
     "iopub.status.idle": "2023-01-08T12:58:53.537741Z",
     "shell.execute_reply": "2023-01-08T12:58:53.536847Z",
     "shell.execute_reply.started": "2023-01-08T12:58:47.796399Z"
    }
   },
   "outputs": [
    {
     "name": "stderr",
     "output_type": "stream",
     "text": [
      "2023-01-08 12:58:47.875453: I tensorflow/core/common_runtime/process_util.cc:146] Creating new thread pool with default inter op setting: 2. Tune using inter_op_parallelism_threads for best performance.\n"
     ]
    },
    {
     "name": "stdout",
     "output_type": "stream",
     "text": [
      "Downloading data from https://storage.googleapis.com/tensorflow/keras-applications/resnet/resnet50v2_weights_tf_dim_ordering_tf_kernels_notop.h5\n",
      "94674944/94668760 [==============================] - 3s 0us/step\n",
      "94683136/94668760 [==============================] - 3s 0us/step\n",
      "Model: \"sequential\"\n",
      "_________________________________________________________________\n",
      "Layer (type)                 Output Shape              Param #   \n",
      "=================================================================\n",
      "resnet50v2 (Functional)      (None, 2048)              23564800  \n",
      "_________________________________________________________________\n",
      "dense (Dense)                (None, 512)               1049088   \n",
      "_________________________________________________________________\n",
      "dense_1 (Dense)              (None, 256)               131328    \n",
      "_________________________________________________________________\n",
      "dense_2 (Dense)              (None, 1)                 257       \n",
      "=================================================================\n",
      "Total params: 24,745,473\n",
      "Trainable params: 1,180,673\n",
      "Non-trainable params: 23,564,800\n",
      "_________________________________________________________________\n"
     ]
    }
   ],
   "source": [
    "model = Resnet_50.build(numChannels=3, imgRows=640, imgCols=640,numClasses=2)\n",
    "model.summary()"
   ]
  },
  {
   "cell_type": "code",
   "execution_count": 7,
   "metadata": {
    "execution": {
     "iopub.execute_input": "2023-01-08T12:58:53.539037Z",
     "iopub.status.busy": "2023-01-08T12:58:53.538693Z",
     "iopub.status.idle": "2023-01-08T12:58:53.552693Z",
     "shell.execute_reply": "2023-01-08T12:58:53.551372Z",
     "shell.execute_reply.started": "2023-01-08T12:58:53.538983Z"
    }
   },
   "outputs": [
    {
     "data": {
      "image/png": "[encoded data removed]",
      "text/plain": [
       "<PIL.Image.Image image mode=RGBA size=359x27>"
      ]
     },
     "execution_count": 7,
     "metadata": {},
     "output_type": "execute_result"
    }
   ],
   "source": [
    "visualkeras.layered_view(model, to_file='output.png') # write to disk"
   ]
  },
  {
   "cell_type": "code",
   "execution_count": 9,
   "metadata": {
    "execution": {
     "iopub.execute_input": "2023-01-08T13:07:04.495104Z",
     "iopub.status.busy": "2023-01-08T13:07:04.494644Z",
     "iopub.status.idle": "2023-01-08T14:02:15.968296Z",
     "shell.execute_reply": "2023-01-08T14:02:15.967320Z",
     "shell.execute_reply.started": "2023-01-08T13:07:04.495067Z"
    }
   },
   "outputs": [
    {
     "name": "stdout",
     "output_type": "stream",
     "text": [
      "Epoch 1/40\n",
      "29/29 [==============================] - 89s 3s/step - loss: 0.6636 - accuracy: 0.6047 - val_loss: 0.7695 - val_accuracy: 0.4701\n",
      "Epoch 2/40\n",
      "29/29 [==============================] - 83s 3s/step - loss: 0.6243 - accuracy: 0.6436 - val_loss: 0.9799 - val_accuracy: 0.4627\n",
      "Epoch 3/40\n",
      "29/29 [==============================] - 84s 3s/step - loss: 0.6088 - accuracy: 0.6552 - val_loss: 0.7968 - val_accuracy: 0.5970\n",
      "Epoch 4/40\n",
      "29/29 [==============================] - 84s 3s/step - loss: 0.5971 - accuracy: 0.6634 - val_loss: 0.7859 - val_accuracy: 0.5448\n",
      "Epoch 5/40\n",
      "29/29 [==============================] - 83s 3s/step - loss: 0.5867 - accuracy: 0.6787 - val_loss: 1.0469 - val_accuracy: 0.4030\n",
      "Epoch 6/40\n",
      "29/29 [==============================] - 83s 3s/step - loss: 0.5881 - accuracy: 0.6787 - val_loss: 0.7357 - val_accuracy: 0.5522\n",
      "Epoch 7/40\n",
      "29/29 [==============================] - 82s 3s/step - loss: 0.5878 - accuracy: 0.6732 - val_loss: 0.7922 - val_accuracy: 0.5970\n",
      "Epoch 8/40\n",
      "29/29 [==============================] - 83s 3s/step - loss: 0.5678 - accuracy: 0.6979 - val_loss: 0.7508 - val_accuracy: 0.5448\n",
      "Epoch 9/40\n",
      "29/29 [==============================] - 84s 3s/step - loss: 0.6058 - accuracy: 0.6694 - val_loss: 0.8066 - val_accuracy: 0.5746\n",
      "Epoch 10/40\n",
      "29/29 [==============================] - 82s 3s/step - loss: 0.5421 - accuracy: 0.7242 - val_loss: 1.0559 - val_accuracy: 0.5373\n",
      "Epoch 11/40\n",
      "29/29 [==============================] - 82s 3s/step - loss: 0.5508 - accuracy: 0.7094 - val_loss: 1.3045 - val_accuracy: 0.4552\n",
      "Epoch 12/40\n",
      "29/29 [==============================] - 83s 3s/step - loss: 0.5238 - accuracy: 0.7357 - val_loss: 0.7478 - val_accuracy: 0.5896\n",
      "Epoch 13/40\n",
      "29/29 [==============================] - 83s 3s/step - loss: 0.5607 - accuracy: 0.6979 - val_loss: 1.2988 - val_accuracy: 0.4776\n",
      "Epoch 14/40\n",
      "29/29 [==============================] - 82s 3s/step - loss: 0.4872 - accuracy: 0.7511 - val_loss: 1.2946 - val_accuracy: 0.5299\n",
      "Epoch 15/40\n",
      "29/29 [==============================] - 82s 3s/step - loss: 0.5214 - accuracy: 0.7242 - val_loss: 1.2982 - val_accuracy: 0.5373\n",
      "Epoch 16/40\n",
      "29/29 [==============================] - 82s 3s/step - loss: 0.5058 - accuracy: 0.7462 - val_loss: 1.4554 - val_accuracy: 0.4851\n",
      "Epoch 17/40\n",
      "29/29 [==============================] - 82s 3s/step - loss: 0.4963 - accuracy: 0.7434 - val_loss: 1.0964 - val_accuracy: 0.5672\n",
      "Epoch 18/40\n",
      "29/29 [==============================] - 83s 3s/step - loss: 0.4677 - accuracy: 0.7697 - val_loss: 1.7330 - val_accuracy: 0.4851\n",
      "Epoch 19/40\n",
      "29/29 [==============================] - 82s 3s/step - loss: 0.4717 - accuracy: 0.7522 - val_loss: 1.2575 - val_accuracy: 0.5299\n",
      "Epoch 20/40\n",
      "29/29 [==============================] - 82s 3s/step - loss: 0.4885 - accuracy: 0.7412 - val_loss: 1.2932 - val_accuracy: 0.5448\n",
      "Epoch 21/40\n",
      "29/29 [==============================] - 82s 3s/step - loss: 0.4641 - accuracy: 0.7654 - val_loss: 1.0732 - val_accuracy: 0.5746\n",
      "Epoch 22/40\n",
      "29/29 [==============================] - 83s 3s/step - loss: 0.4732 - accuracy: 0.7610 - val_loss: 1.5097 - val_accuracy: 0.5075\n",
      "Epoch 23/40\n",
      "29/29 [==============================] - 83s 3s/step - loss: 0.4309 - accuracy: 0.7769 - val_loss: 1.7721 - val_accuracy: 0.5522\n",
      "Epoch 24/40\n",
      "29/29 [==============================] - 82s 3s/step - loss: 0.4232 - accuracy: 0.7895 - val_loss: 1.9821 - val_accuracy: 0.5299\n",
      "Epoch 25/40\n",
      "29/29 [==============================] - 83s 3s/step - loss: 0.4136 - accuracy: 0.7971 - val_loss: 2.0367 - val_accuracy: 0.5522\n",
      "Epoch 26/40\n",
      "29/29 [==============================] - 82s 3s/step - loss: 0.4160 - accuracy: 0.8010 - val_loss: 2.1260 - val_accuracy: 0.5299\n",
      "Epoch 27/40\n",
      "29/29 [==============================] - 83s 3s/step - loss: 0.4194 - accuracy: 0.7895 - val_loss: 1.7268 - val_accuracy: 0.5448\n",
      "Epoch 28/40\n",
      "29/29 [==============================] - 83s 3s/step - loss: 0.4086 - accuracy: 0.7971 - val_loss: 2.2801 - val_accuracy: 0.5149\n",
      "Epoch 29/40\n",
      "29/29 [==============================] - 82s 3s/step - loss: 0.4242 - accuracy: 0.7939 - val_loss: 1.5111 - val_accuracy: 0.5672\n",
      "Epoch 30/40\n",
      "29/29 [==============================] - 83s 3s/step - loss: 0.4678 - accuracy: 0.7643 - val_loss: 1.5806 - val_accuracy: 0.5149\n",
      "Epoch 31/40\n",
      "29/29 [==============================] - 82s 3s/step - loss: 0.3855 - accuracy: 0.8114 - val_loss: 1.7519 - val_accuracy: 0.5448\n",
      "Epoch 32/40\n",
      "29/29 [==============================] - 83s 3s/step - loss: 0.3895 - accuracy: 0.8114 - val_loss: 2.6481 - val_accuracy: 0.5522\n",
      "Epoch 33/40\n",
      "29/29 [==============================] - 83s 3s/step - loss: 0.3935 - accuracy: 0.8125 - val_loss: 1.8429 - val_accuracy: 0.5448\n",
      "Epoch 34/40\n",
      "29/29 [==============================] - 82s 3s/step - loss: 0.4003 - accuracy: 0.8087 - val_loss: 2.1769 - val_accuracy: 0.5224\n",
      "Epoch 35/40\n",
      "29/29 [==============================] - 83s 3s/step - loss: 0.3976 - accuracy: 0.8026 - val_loss: 1.3501 - val_accuracy: 0.5746\n",
      "Epoch 36/40\n",
      "29/29 [==============================] - 82s 3s/step - loss: 0.3663 - accuracy: 0.8262 - val_loss: 2.6896 - val_accuracy: 0.5597\n",
      "Epoch 37/40\n",
      "29/29 [==============================] - 82s 3s/step - loss: 0.3501 - accuracy: 0.8317 - val_loss: 4.4192 - val_accuracy: 0.5224\n",
      "Epoch 38/40\n",
      "29/29 [==============================] - 82s 3s/step - loss: 0.4111 - accuracy: 0.7939 - val_loss: 2.7759 - val_accuracy: 0.5448\n",
      "Epoch 39/40\n",
      "29/29 [==============================] - 82s 3s/step - loss: 0.3511 - accuracy: 0.8306 - val_loss: 2.7278 - val_accuracy: 0.5075\n"
     ]
    },
    {
     "data": {
      "text/plain": [
       "<keras.callbacks.History at 0x7f62dd76cd90>"
      ]
     },
     "execution_count": 9,
     "metadata": {},
     "output_type": "execute_result"
    }
   ],
   "source": [
    "opt = keras.optimizers.Adam(learning_rate=0.02)\n",
    "model.compile(loss=\"binary_crossentropy\",optimizer=opt,metrics=[\"accuracy\"])\n",
    "model.fit(np_train_data, np_train_labels, batch_size=64, epochs=40,verbose=1,validation_data=(np_valid_data, np_valid_labels))"
   ]
  },
  {
   "cell_type": "code",
   "execution_count": 10,
   "metadata": {
    "execution": {
     "iopub.execute_input": "2023-01-08T14:08:31.268006Z",
     "iopub.status.busy": "2023-01-08T14:08:31.267136Z",
     "iopub.status.idle": "2023-01-08T14:09:10.220662Z",
     "shell.execute_reply": "2023-01-08T14:09:10.219456Z",
     "shell.execute_reply.started": "2023-01-08T14:08:31.267960Z"
    }
   },
   "outputs": [
    {
     "name": "stdout",
     "output_type": "stream",
     "text": [
      "accuracy: 47.92%\n"
     ]
    },
    {
     "name": "stderr",
     "output_type": "stream",
     "text": [
      "2023-01-08 14:08:49.930029: W tensorflow/python/util/util.cc:348] Sets are not currently considered sequences, but this may change in the future, so consider avoiding using them.\n",
      "/opt/conda/lib/python3.7/site-packages/keras/utils/generic_utils.py:497: CustomMaskWarning: Custom mask layers require a config and must override get_config. When loading, the custom mask layer must be passed to the custom_objects argument.\n",
      "  category=CustomMaskWarning)\n"
     ]
    }
   ],
   "source": [
    "scores = model.evaluate(np_test_data, np_test_labels, verbose=0)\n",
    "print(\"%s: %.2f%%\" % (model.metrics_names[1], scores[1]*100))\n",
    "model.save('Resnet_50')"
   ]
  }
 ],
 "metadata": {
  "kernelspec": {
   "display_name": "Python 3 (ipykernel)",
   "language": "python",
   "name": "python3"
  },
  "language_info": {
   "codemirror_mode": {
    "name": "ipython",
    "version": 3
   },
   "file_extension": ".py",
   "mimetype": "text/x-python",
   "name": "python",
   "nbconvert_exporter": "python",
   "pygments_lexer": "ipython3",
   "version": "3.9.12"
  }
 },
 "nbformat": 4,
 "nbformat_minor": 4
}
