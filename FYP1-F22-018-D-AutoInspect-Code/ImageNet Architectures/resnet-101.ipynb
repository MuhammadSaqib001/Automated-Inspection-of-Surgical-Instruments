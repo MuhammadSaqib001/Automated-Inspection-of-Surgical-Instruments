{
 "cells": [
  {
   "cell_type": "code",
   "execution_count": 1,
   "id": "c66fc65e",
   "metadata": {
    "_cell_guid": "b1076dfc-b9ad-4769-8c92-a6c4dae69d19",
    "_uuid": "8f2839f25d086af736a60e9eeb907d3b93b6e0e5",
    "execution": {
     "iopub.execute_input": "2023-01-06T18:27:35.348720Z",
     "iopub.status.busy": "2023-01-06T18:27:35.348170Z",
     "iopub.status.idle": "2023-01-06T18:27:43.125680Z",
     "shell.execute_reply": "2023-01-06T18:27:43.124385Z"
    },
    "papermill": {
     "duration": 7.784261,
     "end_time": "2023-01-06T18:27:43.127929",
     "exception": false,
     "start_time": "2023-01-06T18:27:35.343668",
     "status": "completed"
    },
    "tags": []
   },
   "outputs": [],
   "source": [
    "from tensorflow import keras \n",
    "from tensorflow.keras.models import Sequential\n",
    "from tensorflow.keras.layers import Conv2D\n",
    "from tensorflow.keras.layers import MaxPooling2D\n",
    "from tensorflow.keras.layers import Activation\n",
    "from tensorflow.keras.layers import Flatten\n",
    "from tensorflow.keras.layers import Dense\n",
    "import tensorflow.keras.optimizers\n",
    "import tensorflow as tf\n",
    "from tensorflow.keras.layers import BatchNormalization\n",
    "import os\n",
    "import matplotlib.pyplot as plt\n",
    "from matplotlib.pyplot import imread, imshow, imsave\n",
    "import cv2\n",
    "import numpy as np\n",
    "import tensorflow\n",
    "from sklearn.metrics import plot_confusion_matrix# This Python 3 environment comes with many helpful analytics libraries installed"
   ]
  },
  {
   "cell_type": "code",
   "execution_count": 2,
   "id": "c259d06a",
   "metadata": {
    "execution": {
     "iopub.execute_input": "2023-01-06T18:27:43.134509Z",
     "iopub.status.busy": "2023-01-06T18:27:43.133855Z",
     "iopub.status.idle": "2023-01-06T18:27:43.147395Z",
     "shell.execute_reply": "2023-01-06T18:27:43.146426Z"
    },
    "papermill": {
     "duration": 0.018812,
     "end_time": "2023-01-06T18:27:43.149128",
     "exception": false,
     "start_time": "2023-01-06T18:27:43.130316",
     "status": "completed"
    },
    "tags": []
   },
   "outputs": [],
   "source": [
    "def load(file_path):\n",
    "    image = imread(file_path)\n",
    "    return image\n",
    "def display(image,title=\"Image\"):\n",
    "    plt.figure(figsize=[10,10])\n",
    "    channels=len(image.shape)\n",
    "    if channels<3:\n",
    "        plt.imshow(image,cmap='Greys_r');\n",
    "    else:\n",
    "        plt.imshow(image);      \n",
    "    plt.title(title);plt.axis(\"off\"); \n",
    "    \n",
    "def check_label(file_path):\n",
    "    if os.path.getsize(file_path) == 0:\n",
    "        return 0\n",
    "    else :\n",
    "        return 1\n",
    "def load_data(directory):\n",
    "    my_counter_0=0\n",
    "    my_counter_1=0\n",
    "    sequence=[\"x/train\",\"x/test\",\"x/valid\"]\n",
    "    train_data=[]\n",
    "    test_data=[]\n",
    "    valid_data=[]\n",
    "    \n",
    "    valid_labels=[]\n",
    "    test_labels=[]    \n",
    "    train_labels=[]\n",
    "    for x in sequence:\n",
    "        directory_search=directory+x[1:]+'/images'\n",
    "        for filename in os.listdir(directory_search):\n",
    "            f = os.path.join(directory_search, filename)\n",
    "            if os.path.isfile(f):\n",
    "                my_image=load(f)\n",
    "                resized = cv2.resize(my_image,(180,180), interpolation = cv2.INTER_AREA)\n",
    "                if x == 'x/train' :\n",
    "                    train_data.append(resized)\n",
    "                elif x == 'x/test' :\n",
    "                    test_data.append(resized)\n",
    "                else:\n",
    "                    valid_data.append(resized)\n",
    "    \n",
    "        directory_search=directory+x[1:]+'/labels'\n",
    "        for filename in os.listdir(directory_search):\n",
    "            f = os.path.join(directory_search, filename)\n",
    "            if os.path.isfile(f):\n",
    "                label=check_label(f)\n",
    "                if label==0:\n",
    "                    my_counter_0+=1\n",
    "                elif label==1:\n",
    "                    my_counter_1+=1\n",
    "                if x == 'x/train' :\n",
    "                    train_labels.append(label)\n",
    "                elif x == 'x/test' :\n",
    "                    test_labels.append(label)\n",
    "                else:\n",
    "                    valid_labels.append(label)\n",
    "    print(\"Defected Pictures : \",my_counter_1)\n",
    "    print(\"Non-Defected Pictures : \",my_counter_0)\n",
    "\n",
    "    return train_data,test_data,valid_data,train_labels,test_labels,valid_labels"
   ]
  },
  {
   "cell_type": "code",
   "execution_count": 3,
   "id": "cee5aa8c",
   "metadata": {
    "execution": {
     "iopub.execute_input": "2023-01-06T18:27:43.155780Z",
     "iopub.status.busy": "2023-01-06T18:27:43.154890Z",
     "iopub.status.idle": "2023-01-06T18:27:54.353660Z",
     "shell.execute_reply": "2023-01-06T18:27:54.352016Z"
    },
    "papermill": {
     "duration": 11.204469,
     "end_time": "2023-01-06T18:27:54.355910",
     "exception": false,
     "start_time": "2023-01-06T18:27:43.151441",
     "status": "completed"
    },
    "tags": []
   },
   "outputs": [
    {
     "name": "stdout",
     "output_type": "stream",
     "text": [
      "Defected Pictures :  381\n",
      "Non-Defected Pictures :  397\n"
     ]
    }
   ],
   "source": [
    "train_data,test_data,valid_data,train_labels,test_labels,valid_labels=load_data(\"/kaggle/input/finaldataset-autoinspect/\")\n",
    "np_train_data=np.array(train_data)\n",
    "np_train_data = np_train_data.reshape((np_train_data.shape[0], 180,180, 3))\n",
    "np_train_data = np_train_data.astype(\"float32\") / 255.0\n",
    "np_train_labels = np.asarray(train_labels).astype('float32').reshape((-1,1))\n",
    "\n",
    "np_test_data=np.array(test_data)\n",
    "np_test_data = np_test_data.reshape((np_test_data.shape[0], 180,180, 3))\n",
    "np_test_data = np_test_data.astype(\"float32\") / 255.0\n",
    "np_test_labels = np.asarray(test_labels).astype('float32').reshape((-1,1))\n",
    "\n",
    "np_valid_data=np.array(valid_data)\n",
    "np_valid_data = np_valid_data.reshape((np_valid_data.shape[0], 180,180, 3))\n",
    "np_valid_data = np_valid_data.astype(\"float32\") / 255.0\n",
    "np_valid_labels = np.asarray(valid_labels).astype('float32').reshape((-1,1))"
   ]
  },
  {
   "cell_type": "code",
   "execution_count": 4,
   "id": "555b1d61",
   "metadata": {
    "execution": {
     "iopub.execute_input": "2023-01-06T18:27:54.362457Z",
     "iopub.status.busy": "2023-01-06T18:27:54.362081Z",
     "iopub.status.idle": "2023-01-06T18:27:54.370145Z",
     "shell.execute_reply": "2023-01-06T18:27:54.368873Z"
    },
    "papermill": {
     "duration": 0.01429,
     "end_time": "2023-01-06T18:27:54.372612",
     "exception": false,
     "start_time": "2023-01-06T18:27:54.358322",
     "status": "completed"
    },
    "tags": []
   },
   "outputs": [],
   "source": [
    "class Resnet_101:    \n",
    "\n",
    "    def build(imgRows, imgCols,numChannels,numClasses):\n",
    "        resnet_model = Sequential()\n",
    "        pretrained_resnet= tf.keras.applications.ResNet101V2(include_top=False,input_shape=(180,180,3),pooling='avg',classes=2,weights='imagenet',classifier_activation=\"softmax\")\n",
    "        for each_layer in pretrained_resnet.layers:\n",
    "                each_layer.trainable=False\n",
    "\n",
    "        resnet_model.add(pretrained_resnet)\n",
    "        resnet_model.add(Dense(512, activation='relu'))\n",
    "        resnet_model.add(Dense(256, activation='relu'))\n",
    "        resnet_model.add(Dense(1, activation='sigmoid'))\n",
    "        return resnet_model"
   ]
  },
  {
   "cell_type": "code",
   "execution_count": 5,
   "id": "acebf4d2",
   "metadata": {
    "execution": {
     "iopub.execute_input": "2023-01-06T18:27:54.380082Z",
     "iopub.status.busy": "2023-01-06T18:27:54.379714Z",
     "iopub.status.idle": "2023-01-06T19:01:36.817330Z",
     "shell.execute_reply": "2023-01-06T19:01:36.815581Z"
    },
    "papermill": {
     "duration": 2022.46649,
     "end_time": "2023-01-06T19:01:36.841658",
     "exception": false,
     "start_time": "2023-01-06T18:27:54.375168",
     "status": "completed"
    },
    "tags": []
   },
   "outputs": [
    {
     "name": "stderr",
     "output_type": "stream",
     "text": [
      "2023-01-06 18:27:54.417876: I tensorflow/core/common_runtime/process_util.cc:146] Creating new thread pool with default inter op setting: 2. Tune using inter_op_parallelism_threads for best performance.\n"
     ]
    },
    {
     "name": "stdout",
     "output_type": "stream",
     "text": [
      "Downloading data from https://storage.googleapis.com/tensorflow/keras-applications/resnet/resnet101v2_weights_tf_dim_ordering_tf_kernels_notop.h5\n",
      "171319296/171317808 [==============================] - 2s 0us/step\n",
      "171327488/171317808 [==============================] - 2s 0us/step\n"
     ]
    },
    {
     "name": "stderr",
     "output_type": "stream",
     "text": [
      "2023-01-06 18:27:59.660005: I tensorflow/compiler/mlir/mlir_graph_optimization_pass.cc:185] None of the MLIR Optimization Passes are enabled (registered 2)\n"
     ]
    },
    {
     "name": "stdout",
     "output_type": "stream",
     "text": [
      "Epoch 1/40\n",
      "10/10 [==============================] - 58s 5s/step - loss: 36.0786 - accuracy: 0.4984 - val_loss: 1.4060 - val_accuracy: 0.6750\n",
      "Epoch 2/40\n",
      "10/10 [==============================] - 51s 5s/step - loss: 1.0262 - accuracy: 0.5296 - val_loss: 1.0212 - val_accuracy: 0.3250\n",
      "Epoch 3/40\n",
      "10/10 [==============================] - 52s 5s/step - loss: 0.7163 - accuracy: 0.5444 - val_loss: 0.6608 - val_accuracy: 0.6750\n",
      "Epoch 4/40\n",
      "10/10 [==============================] - 51s 5s/step - loss: 0.6956 - accuracy: 0.5082 - val_loss: 0.7752 - val_accuracy: 0.3375\n",
      "Epoch 5/40\n",
      "10/10 [==============================] - 52s 5s/step - loss: 0.6839 - accuracy: 0.5362 - val_loss: 0.8468 - val_accuracy: 0.3250\n",
      "Epoch 6/40\n",
      "10/10 [==============================] - 51s 5s/step - loss: 0.6780 - accuracy: 0.5674 - val_loss: 0.7293 - val_accuracy: 0.4500\n",
      "Epoch 7/40\n",
      "10/10 [==============================] - 49s 5s/step - loss: 0.6543 - accuracy: 0.6234 - val_loss: 0.7841 - val_accuracy: 0.4125\n",
      "Epoch 8/40\n",
      "10/10 [==============================] - 50s 5s/step - loss: 0.6346 - accuracy: 0.6316 - val_loss: 0.7952 - val_accuracy: 0.3750\n",
      "Epoch 9/40\n",
      "10/10 [==============================] - 49s 5s/step - loss: 0.6112 - accuracy: 0.6546 - val_loss: 0.7536 - val_accuracy: 0.4625\n",
      "Epoch 10/40\n",
      "10/10 [==============================] - 49s 5s/step - loss: 0.5888 - accuracy: 0.6859 - val_loss: 0.8273 - val_accuracy: 0.5125\n",
      "Epoch 11/40\n",
      "10/10 [==============================] - 49s 5s/step - loss: 0.5775 - accuracy: 0.6891 - val_loss: 0.8593 - val_accuracy: 0.4250\n",
      "Epoch 12/40\n",
      "10/10 [==============================] - 49s 5s/step - loss: 0.5394 - accuracy: 0.7237 - val_loss: 1.0189 - val_accuracy: 0.4000\n",
      "Epoch 13/40\n",
      "10/10 [==============================] - 50s 5s/step - loss: 0.5416 - accuracy: 0.7089 - val_loss: 1.2110 - val_accuracy: 0.3375\n",
      "Epoch 14/40\n",
      "10/10 [==============================] - 49s 5s/step - loss: 0.5091 - accuracy: 0.7451 - val_loss: 1.1465 - val_accuracy: 0.3625\n",
      "Epoch 15/40\n",
      "10/10 [==============================] - 49s 5s/step - loss: 0.4509 - accuracy: 0.7780 - val_loss: 1.1960 - val_accuracy: 0.3500\n",
      "Epoch 16/40\n",
      "10/10 [==============================] - 49s 5s/step - loss: 0.3992 - accuracy: 0.7944 - val_loss: 1.2162 - val_accuracy: 0.4375\n",
      "Epoch 17/40\n",
      "10/10 [==============================] - 49s 5s/step - loss: 0.4071 - accuracy: 0.8076 - val_loss: 1.5879 - val_accuracy: 0.3500\n",
      "Epoch 18/40\n",
      "10/10 [==============================] - 50s 5s/step - loss: 0.4179 - accuracy: 0.7928 - val_loss: 1.3026 - val_accuracy: 0.4250\n",
      "Epoch 19/40\n",
      "10/10 [==============================] - 49s 5s/step - loss: 0.4034 - accuracy: 0.7977 - val_loss: 1.4128 - val_accuracy: 0.3000\n",
      "Epoch 20/40\n",
      "10/10 [==============================] - 49s 5s/step - loss: 0.3327 - accuracy: 0.8520 - val_loss: 2.0444 - val_accuracy: 0.3250\n",
      "Epoch 21/40\n",
      "10/10 [==============================] - 51s 5s/step - loss: 0.2685 - accuracy: 0.8766 - val_loss: 1.5468 - val_accuracy: 0.4500\n",
      "Epoch 22/40\n",
      "10/10 [==============================] - 51s 5s/step - loss: 0.2797 - accuracy: 0.8701 - val_loss: 1.8436 - val_accuracy: 0.5000\n",
      "Epoch 23/40\n",
      "10/10 [==============================] - 51s 5s/step - loss: 0.3281 - accuracy: 0.8520 - val_loss: 1.4179 - val_accuracy: 0.5125\n",
      "Epoch 24/40\n",
      "10/10 [==============================] - 50s 5s/step - loss: 0.3670 - accuracy: 0.8520 - val_loss: 1.7994 - val_accuracy: 0.4125\n",
      "Epoch 25/40\n",
      "10/10 [==============================] - 51s 5s/step - loss: 0.2958 - accuracy: 0.8783 - val_loss: 1.8314 - val_accuracy: 0.3625\n",
      "Epoch 26/40\n",
      "10/10 [==============================] - 50s 5s/step - loss: 0.3319 - accuracy: 0.8503 - val_loss: 1.7601 - val_accuracy: 0.3500\n",
      "Epoch 27/40\n",
      "10/10 [==============================] - 50s 5s/step - loss: 0.2585 - accuracy: 0.8931 - val_loss: 1.5708 - val_accuracy: 0.4375\n",
      "Epoch 28/40\n",
      "10/10 [==============================] - 51s 5s/step - loss: 0.2034 - accuracy: 0.9128 - val_loss: 1.8193 - val_accuracy: 0.4375\n",
      "Epoch 29/40\n",
      "10/10 [==============================] - 52s 5s/step - loss: 0.2247 - accuracy: 0.9112 - val_loss: 2.4258 - val_accuracy: 0.3375\n",
      "Epoch 30/40\n",
      "10/10 [==============================] - 51s 5s/step - loss: 0.2640 - accuracy: 0.8832 - val_loss: 2.7728 - val_accuracy: 0.3375\n",
      "Epoch 31/40\n",
      "10/10 [==============================] - 50s 5s/step - loss: 0.2932 - accuracy: 0.8668 - val_loss: 1.7941 - val_accuracy: 0.4375\n",
      "Epoch 32/40\n",
      "10/10 [==============================] - 50s 5s/step - loss: 0.1597 - accuracy: 0.9457 - val_loss: 1.9110 - val_accuracy: 0.4125\n",
      "Epoch 33/40\n",
      "10/10 [==============================] - 51s 5s/step - loss: 0.1410 - accuracy: 0.9572 - val_loss: 2.0325 - val_accuracy: 0.4250\n",
      "Epoch 34/40\n",
      "10/10 [==============================] - 50s 5s/step - loss: 0.0983 - accuracy: 0.9638 - val_loss: 2.4122 - val_accuracy: 0.4250\n",
      "Epoch 35/40\n",
      "10/10 [==============================] - 50s 5s/step - loss: 0.1128 - accuracy: 0.9572 - val_loss: 3.3241 - val_accuracy: 0.3625\n",
      "Epoch 36/40\n",
      "10/10 [==============================] - 50s 5s/step - loss: 0.1597 - accuracy: 0.9424 - val_loss: 2.4212 - val_accuracy: 0.4875\n",
      "Epoch 37/40\n",
      "10/10 [==============================] - 50s 5s/step - loss: 0.1822 - accuracy: 0.9243 - val_loss: 2.2532 - val_accuracy: 0.5250\n",
      "Epoch 38/40\n",
      "10/10 [==============================] - 50s 5s/step - loss: 0.2092 - accuracy: 0.9062 - val_loss: 1.9368 - val_accuracy: 0.5000\n",
      "Epoch 39/40\n",
      "10/10 [==============================] - 52s 5s/step - loss: 0.1398 - accuracy: 0.9490 - val_loss: 2.6560 - val_accuracy: 0.3750\n",
      "Epoch 40/40\n",
      "10/10 [==============================] - 51s 5s/step - loss: 0.1104 - accuracy: 0.9605 - val_loss: 2.2517 - val_accuracy: 0.5000\n"
     ]
    },
    {
     "data": {
      "text/plain": [
       "<keras.callbacks.History at 0x7fd694085890>"
      ]
     },
     "execution_count": 5,
     "metadata": {},
     "output_type": "execute_result"
    }
   ],
   "source": [
    "model = Resnet_101.build(numChannels=3, imgRows=640, imgCols=640,numClasses=2)\n",
    "opt = keras.optimizers.Adam(learning_rate=0.02)\n",
    "model.compile(loss=\"binary_crossentropy\",optimizer=opt,metrics=[\"accuracy\"])\n",
    "model.fit(np_train_data, np_train_labels, batch_size=64, epochs=40,verbose=1,validation_data=(np_valid_data, np_valid_labels))"
   ]
  },
  {
   "cell_type": "code",
   "execution_count": 6,
   "id": "ae14ce5a",
   "metadata": {
    "execution": {
     "iopub.execute_input": "2023-01-06T19:01:36.903923Z",
     "iopub.status.busy": "2023-01-06T19:01:36.903568Z",
     "iopub.status.idle": "2023-01-06T19:02:40.349815Z",
     "shell.execute_reply": "2023-01-06T19:02:40.348715Z"
    },
    "papermill": {
     "duration": 63.480311,
     "end_time": "2023-01-06T19:02:40.352357",
     "exception": false,
     "start_time": "2023-01-06T19:01:36.872046",
     "status": "completed"
    },
    "tags": []
   },
   "outputs": [
    {
     "name": "stdout",
     "output_type": "stream",
     "text": [
      "accuracy: 51.11%\n"
     ]
    },
    {
     "name": "stderr",
     "output_type": "stream",
     "text": [
      "2023-01-06 19:02:05.533569: W tensorflow/python/util/util.cc:348] Sets are not currently considered sequences, but this may change in the future, so consider avoiding using them.\n",
      "/opt/conda/lib/python3.7/site-packages/keras/utils/generic_utils.py:497: CustomMaskWarning: Custom mask layers require a config and must override get_config. When loading, the custom mask layer must be passed to the custom_objects argument.\n",
      "  category=CustomMaskWarning)\n"
     ]
    }
   ],
   "source": [
    "scores = model.evaluate(np_test_data, np_test_labels, verbose=0)\n",
    "print(\"%s: %.2f%%\" % (model.metrics_names[1], scores[1]*100))\n",
    "model.save('Resnet_101_softmax')"
   ]
  }
 ],
 "metadata": {
  "kernelspec": {
   "display_name": "Python 3 (ipykernel)",
   "language": "python",
   "name": "python3"
  },
  "language_info": {
   "codemirror_mode": {
    "name": "ipython",
    "version": 3
   },
   "file_extension": ".py",
   "mimetype": "text/x-python",
   "name": "python",
   "nbconvert_exporter": "python",
   "pygments_lexer": "ipython3",
   "version": "3.9.12"
  },
  "papermill": {
   "default_parameters": {},
   "duration": 2115.847321,
   "end_time": "2023-01-06T19:02:43.241595",
   "environment_variables": {},
   "exception": null,
   "input_path": "__notebook__.ipynb",
   "output_path": "__notebook__.ipynb",
   "parameters": {},
   "start_time": "2023-01-06T18:27:27.394274",
   "version": "2.3.4"
  }
 },
 "nbformat": 4,
 "nbformat_minor": 5
}
