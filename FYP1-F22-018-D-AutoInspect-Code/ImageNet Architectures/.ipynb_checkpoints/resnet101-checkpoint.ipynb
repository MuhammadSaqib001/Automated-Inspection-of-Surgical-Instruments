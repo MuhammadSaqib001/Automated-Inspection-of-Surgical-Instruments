{
 "cells": [
  {
   "cell_type": "code",
   "execution_count": 1,
   "id": "5108ae7e",
   "metadata": {
    "_cell_guid": "b1076dfc-b9ad-4769-8c92-a6c4dae69d19",
    "_uuid": "8f2839f25d086af736a60e9eeb907d3b93b6e0e5",
    "execution": {
     "iopub.execute_input": "2023-01-06T22:09:35.557240Z",
     "iopub.status.busy": "2023-01-06T22:09:35.556389Z",
     "iopub.status.idle": "2023-01-06T22:09:44.273025Z",
     "shell.execute_reply": "2023-01-06T22:09:44.271547Z"
    },
    "papermill": {
     "duration": 8.72652,
     "end_time": "2023-01-06T22:09:44.276531",
     "exception": false,
     "start_time": "2023-01-06T22:09:35.550011",
     "status": "completed"
    },
    "tags": []
   },
   "outputs": [],
   "source": [
    "from tensorflow import keras \n",
    "from tensorflow.keras.models import Sequential\n",
    "from tensorflow.keras.layers import Conv2D\n",
    "from tensorflow.keras.layers import MaxPooling2D\n",
    "from tensorflow.keras.layers import Activation\n",
    "from tensorflow.keras.layers import Flatten\n",
    "from tensorflow.keras.layers import Dense\n",
    "import tensorflow.keras.optimizers\n",
    "import tensorflow as tf\n",
    "from tensorflow.keras.layers import BatchNormalization\n",
    "import os\n",
    "from tensorflow.keras.regularizers import l2\n",
    "\n",
    "import matplotlib.pyplot as plt\n",
    "from matplotlib.pyplot import imread, imshow, imsave\n",
    "import cv2\n",
    "import numpy as np\n",
    "import tensorflow\n",
    "from sklearn.metrics import plot_confusion_matrix# This Python 3 environment comes with many helpful analytics libraries installed"
   ]
  },
  {
   "cell_type": "code",
   "execution_count": 2,
   "id": "ce10e88b",
   "metadata": {
    "execution": {
     "iopub.execute_input": "2023-01-06T22:09:44.285802Z",
     "iopub.status.busy": "2023-01-06T22:09:44.284864Z",
     "iopub.status.idle": "2023-01-06T22:09:44.303002Z",
     "shell.execute_reply": "2023-01-06T22:09:44.301370Z"
    },
    "papermill": {
     "duration": 0.025751,
     "end_time": "2023-01-06T22:09:44.305781",
     "exception": false,
     "start_time": "2023-01-06T22:09:44.280030",
     "status": "completed"
    },
    "tags": []
   },
   "outputs": [],
   "source": [
    "def load(file_path):\n",
    "    image = imread(file_path)\n",
    "    return image\n",
    "def display(image,title=\"Image\"):\n",
    "    plt.figure(figsize=[10,10])\n",
    "    channels=len(image.shape)\n",
    "    if channels<3:\n",
    "        plt.imshow(image,cmap='Greys_r');\n",
    "    else:\n",
    "        plt.imshow(image);      \n",
    "    plt.title(title);plt.axis(\"off\"); \n",
    "    \n",
    "def check_label(file_path):\n",
    "    if os.path.getsize(file_path) == 0:\n",
    "        return 0\n",
    "    else :\n",
    "        return 1\n",
    "def load_data(directory):\n",
    "    my_counter_0=0\n",
    "    my_counter_1=0\n",
    "    sequence=[\"x/train\",\"x/test\",\"x/valid\"]\n",
    "    train_data=[]\n",
    "    test_data=[]\n",
    "    valid_data=[]\n",
    "    \n",
    "    valid_labels=[]\n",
    "    test_labels=[]    \n",
    "    train_labels=[]\n",
    "    for x in sequence:\n",
    "        directory_search=directory+x[1:]+'/images'\n",
    "        for filename in os.listdir(directory_search):\n",
    "            f = os.path.join(directory_search, filename)\n",
    "            if os.path.isfile(f):\n",
    "                my_image=load(f)\n",
    "                resized = cv2.resize(my_image,(180,180), interpolation = cv2.INTER_AREA)\n",
    "                if x == 'x/train' :\n",
    "                    train_data.append(resized)\n",
    "                elif x == 'x/test' :\n",
    "                    test_data.append(resized)\n",
    "                else:\n",
    "                    valid_data.append(resized)\n",
    "    \n",
    "        directory_search=directory+x[1:]+'/labels'\n",
    "        for filename in os.listdir(directory_search):\n",
    "            f = os.path.join(directory_search, filename)\n",
    "            if os.path.isfile(f):\n",
    "                label=check_label(f)\n",
    "                if label==0:\n",
    "                    my_counter_0+=1\n",
    "                elif label==1:\n",
    "                    my_counter_1+=1\n",
    "                if x == 'x/train' :\n",
    "                    train_labels.append(label)\n",
    "                elif x == 'x/test' :\n",
    "                    test_labels.append(label)\n",
    "                else:\n",
    "                    valid_labels.append(label)\n",
    "    print(\"Defected Pictures : \",my_counter_1)\n",
    "    print(\"Non-Defected Pictures : \",my_counter_0)\n",
    "\n",
    "    return train_data,test_data,valid_data,train_labels,test_labels,valid_labels"
   ]
  },
  {
   "cell_type": "code",
   "execution_count": 3,
   "id": "5e0d1f9f",
   "metadata": {
    "execution": {
     "iopub.execute_input": "2023-01-06T22:09:44.314627Z",
     "iopub.status.busy": "2023-01-06T22:09:44.313704Z",
     "iopub.status.idle": "2023-01-06T22:09:57.854861Z",
     "shell.execute_reply": "2023-01-06T22:09:57.853370Z"
    },
    "papermill": {
     "duration": 13.549156,
     "end_time": "2023-01-06T22:09:57.858132",
     "exception": false,
     "start_time": "2023-01-06T22:09:44.308976",
     "status": "completed"
    },
    "tags": []
   },
   "outputs": [
    {
     "name": "stdout",
     "output_type": "stream",
     "text": [
      "Defected Pictures :  381\n",
      "Non-Defected Pictures :  397\n"
     ]
    }
   ],
   "source": [
    "train_data,test_data,valid_data,train_labels,test_labels,valid_labels=load_data(\"/kaggle/input/finaldataset-autoinspect/\")\n",
    "np_train_data=np.array(train_data)\n",
    "np_train_data = np_train_data.reshape((np_train_data.shape[0], 180,180, 3))\n",
    "np_train_data = np_train_data.astype(\"float32\") / 255.0\n",
    "np_train_labels = np.asarray(train_labels).astype('float32').reshape((-1,1))\n",
    "\n",
    "np_test_data=np.array(test_data)\n",
    "np_test_data = np_test_data.reshape((np_test_data.shape[0], 180,180, 3))\n",
    "np_test_data = np_test_data.astype(\"float32\") / 255.0\n",
    "np_test_labels = np.asarray(test_labels).astype('float32').reshape((-1,1))\n",
    "\n",
    "np_valid_data=np.array(valid_data)\n",
    "np_valid_data = np_valid_data.reshape((np_valid_data.shape[0], 180,180, 3))\n",
    "np_valid_data = np_valid_data.astype(\"float32\") / 255.0\n",
    "np_valid_labels = np.asarray(valid_labels).astype('float32').reshape((-1,1))"
   ]
  },
  {
   "cell_type": "code",
   "execution_count": 4,
   "id": "2af528e9",
   "metadata": {
    "execution": {
     "iopub.execute_input": "2023-01-06T22:09:57.866724Z",
     "iopub.status.busy": "2023-01-06T22:09:57.866159Z",
     "iopub.status.idle": "2023-01-06T22:09:57.875849Z",
     "shell.execute_reply": "2023-01-06T22:09:57.874373Z"
    },
    "papermill": {
     "duration": 0.017445,
     "end_time": "2023-01-06T22:09:57.878877",
     "exception": false,
     "start_time": "2023-01-06T22:09:57.861432",
     "status": "completed"
    },
    "tags": []
   },
   "outputs": [],
   "source": [
    "class Resnet_101:    \n",
    "\n",
    "    def build(imgRows, imgCols,numChannels,numClasses):\n",
    "        resnet_model = Sequential()\n",
    "        pretrained_resnet= tf.keras.applications.ResNet101V2(include_top=False,input_shape=(180,180,3),pooling='avg',classes=2,weights='imagenet',classifier_activation=\"relu\")\n",
    "        for each_layer in pretrained_resnet.layers:\n",
    "                each_layer.trainable=False\n",
    "\n",
    "        resnet_model.add(pretrained_resnet)\n",
    "        resnet_model.add(Dense(512, activation='relu'))\n",
    "        resnet_model.add(Dense(256, activation='relu'))\n",
    "        resnet_model.add(Dense(1,kernel_regularizer=tf.keras.regularizers.l2(0.01), activation='linear'))\n",
    "   \n",
    "        return resnet_model"
   ]
  },
  {
   "cell_type": "code",
   "execution_count": 5,
   "id": "6125164b",
   "metadata": {
    "execution": {
     "iopub.execute_input": "2023-01-06T22:09:57.887321Z",
     "iopub.status.busy": "2023-01-06T22:09:57.886623Z",
     "iopub.status.idle": "2023-01-06T22:47:35.069202Z",
     "shell.execute_reply": "2023-01-06T22:47:35.067761Z"
    },
    "papermill": {
     "duration": 2257.225508,
     "end_time": "2023-01-06T22:47:35.107547",
     "exception": false,
     "start_time": "2023-01-06T22:09:57.882039",
     "status": "completed"
    },
    "tags": []
   },
   "outputs": [
    {
     "name": "stderr",
     "output_type": "stream",
     "text": [
      "2023-01-06 22:09:57.934630: I tensorflow/core/common_runtime/process_util.cc:146] Creating new thread pool with default inter op setting: 2. Tune using inter_op_parallelism_threads for best performance.\n"
     ]
    },
    {
     "name": "stdout",
     "output_type": "stream",
     "text": [
      "Downloading data from https://storage.googleapis.com/tensorflow/keras-applications/resnet/resnet101v2_weights_tf_dim_ordering_tf_kernels_notop.h5\n",
      "171319296/171317808 [==============================] - 1s 0us/step\n",
      "171327488/171317808 [==============================] - 1s 0us/step\n"
     ]
    },
    {
     "name": "stderr",
     "output_type": "stream",
     "text": [
      "2023-01-06 22:10:04.798191: I tensorflow/compiler/mlir/mlir_graph_optimization_pass.cc:185] None of the MLIR Optimization Passes are enabled (registered 2)\n"
     ]
    },
    {
     "name": "stdout",
     "output_type": "stream",
     "text": [
      "Epoch 1/40\n",
      "10/10 [==============================] - 67s 6s/step - loss: 23.5988 - accuracy: 0.4836 - val_loss: 1.8127 - val_accuracy: 0.6750\n",
      "Epoch 2/40\n",
      "10/10 [==============================] - 56s 6s/step - loss: 1.2166 - accuracy: 0.5395 - val_loss: 0.8565 - val_accuracy: 0.5625\n",
      "Epoch 3/40\n",
      "10/10 [==============================] - 55s 6s/step - loss: 1.0461 - accuracy: 0.5477 - val_loss: 1.6781 - val_accuracy: 0.3250\n",
      "Epoch 4/40\n",
      "10/10 [==============================] - 55s 6s/step - loss: 0.9788 - accuracy: 0.5493 - val_loss: 1.0888 - val_accuracy: 0.3625\n",
      "Epoch 5/40\n",
      "10/10 [==============================] - 55s 6s/step - loss: 0.8854 - accuracy: 0.5674 - val_loss: 1.0644 - val_accuracy: 0.4375\n",
      "Epoch 6/40\n",
      "10/10 [==============================] - 54s 5s/step - loss: 0.8711 - accuracy: 0.5905 - val_loss: 1.1678 - val_accuracy: 0.3375\n",
      "Epoch 7/40\n",
      "10/10 [==============================] - 55s 5s/step - loss: 0.8262 - accuracy: 0.6135 - val_loss: 1.6093 - val_accuracy: 0.3500\n",
      "Epoch 8/40\n",
      "10/10 [==============================] - 55s 6s/step - loss: 0.7901 - accuracy: 0.6332 - val_loss: 1.5817 - val_accuracy: 0.3250\n",
      "Epoch 9/40\n",
      "10/10 [==============================] - 55s 6s/step - loss: 0.7717 - accuracy: 0.6299 - val_loss: 1.2492 - val_accuracy: 0.3750\n",
      "Epoch 10/40\n",
      "10/10 [==============================] - 54s 5s/step - loss: 0.6851 - accuracy: 0.6678 - val_loss: 1.3933 - val_accuracy: 0.3750\n",
      "Epoch 11/40\n",
      "10/10 [==============================] - 55s 6s/step - loss: 0.6023 - accuracy: 0.7319 - val_loss: 1.3399 - val_accuracy: 0.3500\n",
      "Epoch 12/40\n",
      "10/10 [==============================] - 55s 6s/step - loss: 0.5337 - accuracy: 0.7533 - val_loss: 1.3575 - val_accuracy: 0.3500\n",
      "Epoch 13/40\n",
      "10/10 [==============================] - 55s 6s/step - loss: 0.5320 - accuracy: 0.7451 - val_loss: 1.4537 - val_accuracy: 0.3125\n",
      "Epoch 14/40\n",
      "10/10 [==============================] - 55s 6s/step - loss: 0.4614 - accuracy: 0.7780 - val_loss: 1.3096 - val_accuracy: 0.4000\n",
      "Epoch 15/40\n",
      "10/10 [==============================] - 55s 6s/step - loss: 0.4767 - accuracy: 0.7878 - val_loss: 1.4028 - val_accuracy: 0.3625\n",
      "Epoch 16/40\n",
      "10/10 [==============================] - 55s 6s/step - loss: 0.5751 - accuracy: 0.7434 - val_loss: 1.5067 - val_accuracy: 0.3375\n",
      "Epoch 17/40\n",
      "10/10 [==============================] - 54s 5s/step - loss: 0.4917 - accuracy: 0.7780 - val_loss: 1.4343 - val_accuracy: 0.4250\n",
      "Epoch 18/40\n",
      "10/10 [==============================] - 55s 5s/step - loss: 0.4867 - accuracy: 0.7796 - val_loss: 1.3239 - val_accuracy: 0.4125\n",
      "Epoch 19/40\n",
      "10/10 [==============================] - 55s 6s/step - loss: 0.3908 - accuracy: 0.8043 - val_loss: 1.2903 - val_accuracy: 0.4125\n",
      "Epoch 20/40\n",
      "10/10 [==============================] - 54s 5s/step - loss: 0.3888 - accuracy: 0.8240 - val_loss: 1.4414 - val_accuracy: 0.3750\n",
      "Epoch 21/40\n",
      "10/10 [==============================] - 54s 5s/step - loss: 0.3723 - accuracy: 0.8224 - val_loss: 1.5763 - val_accuracy: 0.3500\n",
      "Epoch 22/40\n",
      "10/10 [==============================] - 54s 6s/step - loss: 0.3354 - accuracy: 0.8454 - val_loss: 1.5339 - val_accuracy: 0.3500\n",
      "Epoch 23/40\n",
      "10/10 [==============================] - 55s 6s/step - loss: 0.3487 - accuracy: 0.8388 - val_loss: 1.5049 - val_accuracy: 0.3750\n",
      "Epoch 24/40\n",
      "10/10 [==============================] - 54s 5s/step - loss: 0.3005 - accuracy: 0.8602 - val_loss: 1.5297 - val_accuracy: 0.3750\n",
      "Epoch 25/40\n",
      "10/10 [==============================] - 55s 6s/step - loss: 0.2399 - accuracy: 0.8882 - val_loss: 1.6380 - val_accuracy: 0.3625\n",
      "Epoch 26/40\n",
      "10/10 [==============================] - 55s 6s/step - loss: 0.2820 - accuracy: 0.8717 - val_loss: 1.5553 - val_accuracy: 0.3500\n",
      "Epoch 27/40\n",
      "10/10 [==============================] - 55s 6s/step - loss: 0.2811 - accuracy: 0.8635 - val_loss: 1.7459 - val_accuracy: 0.3750\n",
      "Epoch 28/40\n",
      "10/10 [==============================] - 54s 5s/step - loss: 0.2060 - accuracy: 0.9046 - val_loss: 1.5847 - val_accuracy: 0.3625\n",
      "Epoch 29/40\n",
      "10/10 [==============================] - 55s 6s/step - loss: 0.2258 - accuracy: 0.8898 - val_loss: 1.6012 - val_accuracy: 0.4000\n",
      "Epoch 30/40\n",
      "10/10 [==============================] - 55s 6s/step - loss: 0.2537 - accuracy: 0.8783 - val_loss: 1.6505 - val_accuracy: 0.3500\n",
      "Epoch 31/40\n",
      "10/10 [==============================] - 54s 5s/step - loss: 0.2269 - accuracy: 0.9046 - val_loss: 1.6004 - val_accuracy: 0.3750\n",
      "Epoch 32/40\n",
      "10/10 [==============================] - 55s 5s/step - loss: 0.2260 - accuracy: 0.8898 - val_loss: 1.7295 - val_accuracy: 0.4625\n",
      "Epoch 33/40\n",
      "10/10 [==============================] - 55s 6s/step - loss: 0.2559 - accuracy: 0.8816 - val_loss: 1.8128 - val_accuracy: 0.4375\n",
      "Epoch 34/40\n",
      "10/10 [==============================] - 55s 6s/step - loss: 0.2345 - accuracy: 0.9013 - val_loss: 1.7813 - val_accuracy: 0.3375\n",
      "Epoch 35/40\n",
      "10/10 [==============================] - 55s 6s/step - loss: 0.2843 - accuracy: 0.8618 - val_loss: 1.5780 - val_accuracy: 0.3750\n",
      "Epoch 36/40\n",
      "10/10 [==============================] - 55s 5s/step - loss: 0.2416 - accuracy: 0.8931 - val_loss: 1.4770 - val_accuracy: 0.4625\n",
      "Epoch 37/40\n",
      "10/10 [==============================] - 56s 6s/step - loss: 0.1617 - accuracy: 0.9211 - val_loss: 1.7574 - val_accuracy: 0.4125\n",
      "Epoch 38/40\n",
      "10/10 [==============================] - 55s 6s/step - loss: 0.1755 - accuracy: 0.9178 - val_loss: 1.5489 - val_accuracy: 0.3875\n",
      "Epoch 39/40\n",
      "10/10 [==============================] - 55s 6s/step - loss: 0.1428 - accuracy: 0.9276 - val_loss: 1.8233 - val_accuracy: 0.3875\n",
      "Epoch 40/40\n",
      "10/10 [==============================] - 55s 6s/step - loss: 0.1539 - accuracy: 0.9326 - val_loss: 1.9243 - val_accuracy: 0.3625\n"
     ]
    },
    {
     "data": {
      "text/plain": [
       "<keras.callbacks.History at 0x7f9f021c1f10>"
      ]
     },
     "execution_count": 5,
     "metadata": {},
     "output_type": "execute_result"
    }
   ],
   "source": [
    "model = Resnet_101.build(numChannels=3, imgRows=640, imgCols=640,numClasses=2)\n",
    "opt = keras.optimizers.Adam(learning_rate=0.02)\n",
    "model.compile(loss=\"hinge\",optimizer=opt,metrics=[\"accuracy\"])\n",
    "model.fit(np_train_data, np_train_labels, batch_size=64, epochs=40,verbose=1,validation_data=(np_valid_data, np_valid_labels))"
   ]
  },
  {
   "cell_type": "code",
   "execution_count": 6,
   "id": "151afb55",
   "metadata": {
    "execution": {
     "iopub.execute_input": "2023-01-06T22:47:35.180152Z",
     "iopub.status.busy": "2023-01-06T22:47:35.179686Z",
     "iopub.status.idle": "2023-01-06T22:48:54.603196Z",
     "shell.execute_reply": "2023-01-06T22:48:54.601643Z"
    },
    "papermill": {
     "duration": 79.467711,
     "end_time": "2023-01-06T22:48:54.610494",
     "exception": false,
     "start_time": "2023-01-06T22:47:35.142783",
     "status": "completed"
    },
    "tags": []
   },
   "outputs": [
    {
     "name": "stdout",
     "output_type": "stream",
     "text": [
      "accuracy: 52.22%\n"
     ]
    },
    {
     "name": "stderr",
     "output_type": "stream",
     "text": [
      "2023-01-06 22:48:11.210337: W tensorflow/python/util/util.cc:348] Sets are not currently considered sequences, but this may change in the future, so consider avoiding using them.\n",
      "/opt/conda/lib/python3.7/site-packages/keras/utils/generic_utils.py:497: CustomMaskWarning: Custom mask layers require a config and must override get_config. When loading, the custom mask layer must be passed to the custom_objects argument.\n",
      "  category=CustomMaskWarning)\n"
     ]
    }
   ],
   "source": [
    "scores = model.evaluate(np_test_data, np_test_labels, verbose=0)\n",
    "print(\"%s: %.2f%%\" % (model.metrics_names[1], scores[1]*100))\n",
    "model.save('resnet_101_softmax')"
   ]
  }
 ],
 "metadata": {
  "kernelspec": {
   "display_name": "Python 3 (ipykernel)",
   "language": "python",
   "name": "python3"
  },
  "language_info": {
   "codemirror_mode": {
    "name": "ipython",
    "version": 3
   },
   "file_extension": ".py",
   "mimetype": "text/x-python",
   "name": "python",
   "nbconvert_exporter": "python",
   "pygments_lexer": "ipython3",
   "version": "3.9.12"
  },
  "papermill": {
   "default_parameters": {},
   "duration": 2371.650802,
   "end_time": "2023-01-06T22:48:57.404827",
   "environment_variables": {},
   "exception": null,
   "input_path": "__notebook__.ipynb",
   "output_path": "__notebook__.ipynb",
   "parameters": {},
   "start_time": "2023-01-06T22:09:25.754025",
   "version": "2.3.4"
  }
 },
 "nbformat": 4,
 "nbformat_minor": 5
}
