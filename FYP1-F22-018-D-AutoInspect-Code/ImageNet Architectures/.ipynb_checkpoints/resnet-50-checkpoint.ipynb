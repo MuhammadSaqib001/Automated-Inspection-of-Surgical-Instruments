{
 "cells": [
  {
   "cell_type": "code",
   "execution_count": 41,
   "metadata": {
    "_cell_guid": "b1076dfc-b9ad-4769-8c92-a6c4dae69d19",
    "_uuid": "8f2839f25d086af736a60e9eeb907d3b93b6e0e5",
    "execution": {
     "iopub.execute_input": "2023-01-06T16:10:11.878207Z",
     "iopub.status.busy": "2023-01-06T16:10:11.877771Z",
     "iopub.status.idle": "2023-01-06T16:10:11.888386Z",
     "shell.execute_reply": "2023-01-06T16:10:11.887014Z",
     "shell.execute_reply.started": "2023-01-06T16:10:11.878173Z"
    }
   },
   "outputs": [],
   "source": [
    "from tensorflow import keras \n",
    "from tensorflow.keras.models import Sequential\n",
    "from tensorflow.keras.layers import Conv2D\n",
    "from tensorflow.keras.layers import MaxPooling2D\n",
    "from tensorflow.keras.layers import Activation\n",
    "from tensorflow.keras.layers import Flatten\n",
    "from tensorflow.keras.layers import Dense\n",
    "import tensorflow.keras.optimizers\n",
    "import tensorflow as tf\n",
    "from tensorflow.keras.layers import BatchNormalization\n",
    "import os\n",
    "import matplotlib.pyplot as plt\n",
    "from matplotlib.pyplot import imread, imshow, imsave\n",
    "import cv2\n",
    "import numpy as np\n",
    "import tensorflow\n",
    "from sklearn.metrics import plot_confusion_matrix# This Python 3 environment comes with many helpful analytics libraries installed"
   ]
  },
  {
   "cell_type": "code",
   "execution_count": 42,
   "metadata": {
    "execution": {
     "iopub.execute_input": "2023-01-06T16:10:11.890972Z",
     "iopub.status.busy": "2023-01-06T16:10:11.890588Z",
     "iopub.status.idle": "2023-01-06T16:10:11.908052Z",
     "shell.execute_reply": "2023-01-06T16:10:11.906792Z",
     "shell.execute_reply.started": "2023-01-06T16:10:11.890939Z"
    }
   },
   "outputs": [],
   "source": [
    "def load(file_path):\n",
    "    image = imread(file_path)\n",
    "    return image\n",
    "def display(image,title=\"Image\"):\n",
    "    plt.figure(figsize=[10,10])\n",
    "    channels=len(image.shape)\n",
    "    if channels<3:\n",
    "        plt.imshow(image,cmap='Greys_r');\n",
    "    else:\n",
    "        plt.imshow(image);      \n",
    "    plt.title(title);plt.axis(\"off\"); \n",
    "    \n",
    "def check_label(file_path):\n",
    "    if os.path.getsize(file_path) == 0:\n",
    "        return 0\n",
    "    else :\n",
    "        return 1\n",
    "def load_data(directory):\n",
    "    my_counter_0=0\n",
    "    my_counter_1=0\n",
    "    sequence=[\"x/train\",\"x/test\",\"x/valid\"]\n",
    "    train_data=[]\n",
    "    test_data=[]\n",
    "    valid_data=[]\n",
    "    \n",
    "    valid_labels=[]\n",
    "    test_labels=[]    \n",
    "    train_labels=[]\n",
    "    for x in sequence:\n",
    "        directory_search=directory+x[1:]+'/images'\n",
    "        for filename in os.listdir(directory_search):\n",
    "            f = os.path.join(directory_search, filename)\n",
    "            if os.path.isfile(f):\n",
    "                my_image=load(f)\n",
    "                resized = cv2.resize(my_image,(180,180), interpolation = cv2.INTER_AREA)\n",
    "                if x == 'x/train' :\n",
    "                    train_data.append(resized)\n",
    "                elif x == 'x/test' :\n",
    "                    test_data.append(resized)\n",
    "                else:\n",
    "                    valid_data.append(resized)\n",
    "    \n",
    "        directory_search=directory+x[1:]+'/labels'\n",
    "        for filename in os.listdir(directory_search):\n",
    "            f = os.path.join(directory_search, filename)\n",
    "            if os.path.isfile(f):\n",
    "                label=check_label(f)\n",
    "                if label==0:\n",
    "                    my_counter_0+=1\n",
    "                elif label==1:\n",
    "                    my_counter_1+=1\n",
    "                if x == 'x/train' :\n",
    "                    train_labels.append(label)\n",
    "                elif x == 'x/test' :\n",
    "                    test_labels.append(label)\n",
    "                else:\n",
    "                    valid_labels.append(label)\n",
    "    print(\"Defected Pictures : \",my_counter_1)\n",
    "    print(\"Non-Defected Pictures : \",my_counter_0)\n",
    "\n",
    "    return train_data,test_data,valid_data,train_labels,test_labels,valid_labels"
   ]
  },
  {
   "cell_type": "code",
   "execution_count": 43,
   "metadata": {
    "execution": {
     "iopub.execute_input": "2023-01-06T16:10:11.910504Z",
     "iopub.status.busy": "2023-01-06T16:10:11.910132Z",
     "iopub.status.idle": "2023-01-06T16:10:21.892157Z",
     "shell.execute_reply": "2023-01-06T16:10:21.890828Z",
     "shell.execute_reply.started": "2023-01-06T16:10:11.910466Z"
    }
   },
   "outputs": [
    {
     "name": "stdout",
     "output_type": "stream",
     "text": [
      "Defected Pictures :  381\n",
      "Non-Defected Pictures :  397\n"
     ]
    }
   ],
   "source": [
    "train_data,test_data,valid_data,train_labels,test_labels,valid_labels=load_data(\"/kaggle/input/finaldataset-autoinspect/\")\n",
    "np_train_data=np.array(train_data)\n",
    "np_train_data = np_train_data.reshape((np_train_data.shape[0], 180,180, 3))\n",
    "np_train_data = np_train_data.astype(\"float32\") / 255.0\n",
    "np_train_labels = np.asarray(train_labels).astype('float32').reshape((-1,1))\n",
    "\n",
    "np_test_data=np.array(test_data)\n",
    "np_test_data = np_test_data.reshape((np_test_data.shape[0], 180,180, 3))\n",
    "np_test_data = np_test_data.astype(\"float32\") / 255.0\n",
    "np_test_labels = np.asarray(test_labels).astype('float32').reshape((-1,1))\n",
    "\n",
    "np_valid_data=np.array(valid_data)\n",
    "np_valid_data = np_valid_data.reshape((np_valid_data.shape[0], 180,180, 3))\n",
    "np_valid_data = np_valid_data.astype(\"float32\") / 255.0\n",
    "np_valid_labels = np.asarray(valid_labels).astype('float32').reshape((-1,1))"
   ]
  },
  {
   "cell_type": "code",
   "execution_count": 48,
   "metadata": {
    "execution": {
     "iopub.execute_input": "2023-01-06T16:37:41.246804Z",
     "iopub.status.busy": "2023-01-06T16:37:41.246305Z",
     "iopub.status.idle": "2023-01-06T16:37:41.256113Z",
     "shell.execute_reply": "2023-01-06T16:37:41.254949Z",
     "shell.execute_reply.started": "2023-01-06T16:37:41.246760Z"
    }
   },
   "outputs": [],
   "source": [
    "class Resnet_50:    \n",
    "\n",
    "    def build(imgRows, imgCols,numChannels,numClasses):\n",
    "        resnet_model = Sequential()\n",
    "        pretrained_resnet= tf.keras.applications.ResNet50V2(include_top=False,input_shape=(180,180,3),pooling='avg',classes=2,weights='imagenet',classifier_activation=\"relu\")\n",
    "        for each_layer in pretrained_resnet.layers:\n",
    "                each_layer.trainable=False\n",
    "\n",
    "        resnet_model.add(pretrained_resnet)\n",
    "        resnet_model.add(Dense(512, activation='relu'))\n",
    "        resnet_model.add(Dense(256, activation='relu'))\n",
    "        resnet_model.add(Dense(1, activation='sigmoid'))\n",
    "        return resnet_model"
   ]
  },
  {
   "cell_type": "code",
   "execution_count": 49,
   "metadata": {
    "execution": {
     "iopub.execute_input": "2023-01-06T16:37:44.079081Z",
     "iopub.status.busy": "2023-01-06T16:37:44.078660Z",
     "iopub.status.idle": "2023-01-06T16:57:15.301547Z",
     "shell.execute_reply": "2023-01-06T16:57:15.300662Z",
     "shell.execute_reply.started": "2023-01-06T16:37:44.079045Z"
    }
   },
   "outputs": [
    {
     "name": "stdout",
     "output_type": "stream",
     "text": [
      "Epoch 1/40\n",
      "10/10 [==============================] - 34s 3s/step - loss: 28.8536 - accuracy: 0.5082 - val_loss: 2.2351 - val_accuracy: 0.6750\n",
      "Epoch 2/40\n",
      "10/10 [==============================] - 30s 3s/step - loss: 1.5483 - accuracy: 0.5280 - val_loss: 0.6700 - val_accuracy: 0.6250\n",
      "Epoch 3/40\n",
      "10/10 [==============================] - 29s 3s/step - loss: 0.7528 - accuracy: 0.4984 - val_loss: 0.7412 - val_accuracy: 0.3250\n",
      "Epoch 4/40\n",
      "10/10 [==============================] - 30s 3s/step - loss: 0.6873 - accuracy: 0.5378 - val_loss: 0.7298 - val_accuracy: 0.3375\n",
      "Epoch 5/40\n",
      "10/10 [==============================] - 30s 3s/step - loss: 0.6781 - accuracy: 0.5625 - val_loss: 0.7594 - val_accuracy: 0.3875\n",
      "Epoch 6/40\n",
      "10/10 [==============================] - 30s 3s/step - loss: 0.6614 - accuracy: 0.5674 - val_loss: 1.0805 - val_accuracy: 0.3500\n",
      "Epoch 7/40\n",
      "10/10 [==============================] - 29s 3s/step - loss: 0.6683 - accuracy: 0.5247 - val_loss: 0.7897 - val_accuracy: 0.6250\n",
      "Epoch 8/40\n",
      "10/10 [==============================] - 29s 3s/step - loss: 0.6463 - accuracy: 0.5691 - val_loss: 0.8524 - val_accuracy: 0.4500\n",
      "Epoch 9/40\n",
      "10/10 [==============================] - 29s 3s/step - loss: 0.6451 - accuracy: 0.5839 - val_loss: 0.9692 - val_accuracy: 0.5625\n",
      "Epoch 10/40\n",
      "10/10 [==============================] - 29s 3s/step - loss: 0.6385 - accuracy: 0.5707 - val_loss: 0.9426 - val_accuracy: 0.4500\n",
      "Epoch 11/40\n",
      "10/10 [==============================] - 29s 3s/step - loss: 0.6221 - accuracy: 0.6168 - val_loss: 1.0786 - val_accuracy: 0.4250\n",
      "Epoch 12/40\n",
      "10/10 [==============================] - 29s 3s/step - loss: 0.6006 - accuracy: 0.6760 - val_loss: 1.1102 - val_accuracy: 0.4250\n",
      "Epoch 13/40\n",
      "10/10 [==============================] - 29s 3s/step - loss: 0.5991 - accuracy: 0.6628 - val_loss: 1.0278 - val_accuracy: 0.4000\n",
      "Epoch 14/40\n",
      "10/10 [==============================] - 29s 3s/step - loss: 0.5970 - accuracy: 0.6694 - val_loss: 1.3087 - val_accuracy: 0.3375\n",
      "Epoch 15/40\n",
      "10/10 [==============================] - 29s 3s/step - loss: 0.5673 - accuracy: 0.7007 - val_loss: 1.4142 - val_accuracy: 0.4125\n",
      "Epoch 16/40\n",
      "10/10 [==============================] - 30s 3s/step - loss: 0.5619 - accuracy: 0.6793 - val_loss: 1.2134 - val_accuracy: 0.4000\n",
      "Epoch 17/40\n",
      "10/10 [==============================] - 28s 3s/step - loss: 0.5259 - accuracy: 0.6957 - val_loss: 1.1879 - val_accuracy: 0.3875\n",
      "Epoch 18/40\n",
      "10/10 [==============================] - 29s 3s/step - loss: 0.4949 - accuracy: 0.7237 - val_loss: 1.5169 - val_accuracy: 0.4625\n",
      "Epoch 19/40\n",
      "10/10 [==============================] - 29s 3s/step - loss: 0.4502 - accuracy: 0.7664 - val_loss: 1.4974 - val_accuracy: 0.4500\n",
      "Epoch 20/40\n",
      "10/10 [==============================] - 29s 3s/step - loss: 0.4501 - accuracy: 0.7747 - val_loss: 1.1841 - val_accuracy: 0.4250\n",
      "Epoch 21/40\n",
      "10/10 [==============================] - 29s 3s/step - loss: 0.4865 - accuracy: 0.7467 - val_loss: 1.7947 - val_accuracy: 0.3875\n",
      "Epoch 22/40\n",
      "10/10 [==============================] - 29s 3s/step - loss: 0.4275 - accuracy: 0.7944 - val_loss: 1.1093 - val_accuracy: 0.5125\n",
      "Epoch 23/40\n",
      "10/10 [==============================] - 29s 3s/step - loss: 0.4549 - accuracy: 0.7566 - val_loss: 1.7496 - val_accuracy: 0.3375\n",
      "Epoch 24/40\n",
      "10/10 [==============================] - 29s 3s/step - loss: 0.3640 - accuracy: 0.8174 - val_loss: 2.7903 - val_accuracy: 0.3875\n",
      "Epoch 25/40\n",
      "10/10 [==============================] - 29s 3s/step - loss: 0.3621 - accuracy: 0.8421 - val_loss: 1.9652 - val_accuracy: 0.3750\n",
      "Epoch 26/40\n",
      "10/10 [==============================] - 29s 3s/step - loss: 0.3194 - accuracy: 0.8618 - val_loss: 2.9984 - val_accuracy: 0.3500\n",
      "Epoch 27/40\n",
      "10/10 [==============================] - 29s 3s/step - loss: 0.2594 - accuracy: 0.8865 - val_loss: 1.9003 - val_accuracy: 0.4000\n",
      "Epoch 28/40\n",
      "10/10 [==============================] - 29s 3s/step - loss: 0.2546 - accuracy: 0.8832 - val_loss: 2.2970 - val_accuracy: 0.3750\n",
      "Epoch 29/40\n",
      "10/10 [==============================] - 28s 3s/step - loss: 0.2332 - accuracy: 0.8947 - val_loss: 3.2257 - val_accuracy: 0.3375\n",
      "Epoch 30/40\n",
      "10/10 [==============================] - 29s 3s/step - loss: 0.2127 - accuracy: 0.8947 - val_loss: 2.4555 - val_accuracy: 0.4000\n",
      "Epoch 31/40\n",
      "10/10 [==============================] - 29s 3s/step - loss: 0.2067 - accuracy: 0.9046 - val_loss: 3.4391 - val_accuracy: 0.3125\n",
      "Epoch 32/40\n",
      "10/10 [==============================] - 29s 3s/step - loss: 0.2108 - accuracy: 0.8947 - val_loss: 2.8997 - val_accuracy: 0.3625\n",
      "Epoch 33/40\n",
      "10/10 [==============================] - 29s 3s/step - loss: 0.3753 - accuracy: 0.8421 - val_loss: 2.2917 - val_accuracy: 0.5375\n",
      "Epoch 34/40\n",
      "10/10 [==============================] - 29s 3s/step - loss: 0.3002 - accuracy: 0.8734 - val_loss: 2.6410 - val_accuracy: 0.3500\n",
      "Epoch 35/40\n",
      "10/10 [==============================] - 29s 3s/step - loss: 0.2912 - accuracy: 0.8750 - val_loss: 2.3695 - val_accuracy: 0.5000\n",
      "Epoch 36/40\n",
      "10/10 [==============================] - 29s 3s/step - loss: 0.2407 - accuracy: 0.9079 - val_loss: 3.2747 - val_accuracy: 0.3500\n",
      "Epoch 37/40\n",
      "10/10 [==============================] - 29s 3s/step - loss: 0.1824 - accuracy: 0.9342 - val_loss: 4.4906 - val_accuracy: 0.3375\n",
      "Epoch 38/40\n",
      "10/10 [==============================] - 29s 3s/step - loss: 0.2165 - accuracy: 0.8997 - val_loss: 2.6927 - val_accuracy: 0.5500\n",
      "Epoch 39/40\n",
      "10/10 [==============================] - 29s 3s/step - loss: 0.2315 - accuracy: 0.8898 - val_loss: 2.8750 - val_accuracy: 0.3875\n",
      "Epoch 40/40\n",
      "10/10 [==============================] - 29s 3s/step - loss: 0.1567 - accuracy: 0.9457 - val_loss: 3.0273 - val_accuracy: 0.4000\n"
     ]
    },
    {
     "data": {
      "text/plain": [
       "<keras.callbacks.History at 0x7f0ce2a54210>"
      ]
     },
     "execution_count": 49,
     "metadata": {},
     "output_type": "execute_result"
    }
   ],
   "source": [
    "model = Resnet_50.build(numChannels=3, imgRows=640, imgCols=640,numClasses=2)\n",
    "opt = keras.optimizers.Adam(learning_rate=0.02)\n",
    "model.compile(loss=\"binary_crossentropy\",optimizer=opt,metrics=[\"accuracy\"])\n",
    "model.fit(np_train_data, np_train_labels, batch_size=64, epochs=40,verbose=1,validation_data=(np_valid_data, np_valid_labels))"
   ]
  },
  {
   "cell_type": "code",
   "execution_count": 57,
   "metadata": {
    "execution": {
     "iopub.execute_input": "2023-01-06T17:03:25.591634Z",
     "iopub.status.busy": "2023-01-06T17:03:25.590569Z",
     "iopub.status.idle": "2023-01-06T17:03:25.599848Z",
     "shell.execute_reply": "2023-01-06T17:03:25.598862Z",
     "shell.execute_reply.started": "2023-01-06T17:03:25.591590Z"
    }
   },
   "outputs": [],
   "source": [
    "import zipfile\n",
    "import os\n",
    "from IPython.display import FileLink\n",
    "\n",
    "def zip_dir(directory ='/kaggle/working/Resnet_50_relu', file_name = 'directory.zip'):\n",
    "    os.chdir(directory)\n",
    "    zip_ref = zipfile.ZipFile(file_name, mode='w')\n",
    "    for folder, _, files in os.walk(directory):\n",
    "        for file in files:\n",
    "            if file_name in file:\n",
    "                pass\n",
    "            else:\n",
    "                zip_ref.write(os.path.join(folder, file))\n",
    "\n",
    "    return FileLink(file_name)"
   ]
  },
  {
   "cell_type": "code",
   "execution_count": 58,
   "metadata": {
    "execution": {
     "iopub.execute_input": "2023-01-06T17:03:28.661406Z",
     "iopub.status.busy": "2023-01-06T17:03:28.660977Z",
     "iopub.status.idle": "2023-01-06T17:03:29.066075Z",
     "shell.execute_reply": "2023-01-06T17:03:29.064709Z",
     "shell.execute_reply.started": "2023-01-06T17:03:28.661370Z"
    }
   },
   "outputs": [
    {
     "data": {
      "text/html": [
       "<a href='directory.zip' target='_blank'>directory.zip</a><br>"
      ],
      "text/plain": [
       "/kaggle/working/Resnet_50_relu/directory.zip"
      ]
     },
     "execution_count": 58,
     "metadata": {},
     "output_type": "execute_result"
    }
   ],
   "source": [
    "zip_dir()"
   ]
  },
  {
   "cell_type": "code",
   "execution_count": 51,
   "metadata": {
    "execution": {
     "iopub.execute_input": "2023-01-06T16:58:51.135470Z",
     "iopub.status.busy": "2023-01-06T16:58:51.134967Z",
     "iopub.status.idle": "2023-01-06T16:59:27.032647Z",
     "shell.execute_reply": "2023-01-06T16:59:27.031348Z",
     "shell.execute_reply.started": "2023-01-06T16:58:51.135434Z"
    }
   },
   "outputs": [
    {
     "name": "stdout",
     "output_type": "stream",
     "text": [
      "accuracy: 46.67%\n"
     ]
    },
    {
     "name": "stderr",
     "output_type": "stream",
     "text": [
      "/opt/conda/lib/python3.7/site-packages/keras/utils/generic_utils.py:497: CustomMaskWarning: Custom mask layers require a config and must override get_config. When loading, the custom mask layer must be passed to the custom_objects argument.\n",
      "  category=CustomMaskWarning)\n"
     ]
    }
   ],
   "source": [
    "scores = model.evaluate(np_test_data, np_test_labels, verbose=0)\n",
    "print(\"%s: %.2f%%\" % (model.metrics_names[1], scores[1]*100))\n",
    "model.save('Resnet_50_relu')"
   ]
  },
  {
   "cell_type": "code",
   "execution_count": 60,
   "metadata": {
    "execution": {
     "iopub.execute_input": "2023-01-06T17:11:44.661831Z",
     "iopub.status.busy": "2023-01-06T17:11:44.660914Z",
     "iopub.status.idle": "2023-01-06T17:11:55.409186Z",
     "shell.execute_reply": "2023-01-06T17:11:55.407870Z",
     "shell.execute_reply.started": "2023-01-06T17:11:44.661790Z"
    }
   },
   "outputs": [],
   "source": [
    "model = keras.models.load_model('/kaggle/working/Resnet_50_relu')"
   ]
  },
  {
   "cell_type": "code",
   "execution_count": 81,
   "metadata": {
    "execution": {
     "iopub.execute_input": "2023-01-06T17:26:08.792156Z",
     "iopub.status.busy": "2023-01-06T17:26:08.791715Z",
     "iopub.status.idle": "2023-01-06T17:26:08.807042Z",
     "shell.execute_reply": "2023-01-06T17:26:08.805985Z",
     "shell.execute_reply.started": "2023-01-06T17:26:08.792122Z"
    }
   },
   "outputs": [],
   "source": [
    "tester=load('/kaggle/input/finaldataset-autoinspect/test/images/-169-_JPG.rf.c312182dc80ecbed1474a0ccb5ffc142.jpg')"
   ]
  },
  {
   "cell_type": "code",
   "execution_count": 82,
   "metadata": {
    "execution": {
     "iopub.execute_input": "2023-01-06T17:26:10.659689Z",
     "iopub.status.busy": "2023-01-06T17:26:10.659027Z",
     "iopub.status.idle": "2023-01-06T17:26:10.821613Z",
     "shell.execute_reply": "2023-01-06T17:26:10.820524Z",
     "shell.execute_reply.started": "2023-01-06T17:26:10.659651Z"
    }
   },
   "outputs": [
    {
     "data": {
      "text/plain": [
       "array([[0.9914318]], dtype=float32)"
      ]
     },
     "execution_count": 82,
     "metadata": {},
     "output_type": "execute_result"
    }
   ],
   "source": [
    "tester = tester.astype(\"float32\") / 255.0\n",
    "tester = cv2.resize(tester,(180,180), interpolation = cv2.INTER_AREA)\n",
    "tester = tester.reshape((1,180,180, 3))\n",
    "\n",
    "model.predict(tester)"
   ]
  }
 ],
 "metadata": {
  "kernelspec": {
   "display_name": "Python 3 (ipykernel)",
   "language": "python",
   "name": "python3"
  },
  "language_info": {
   "codemirror_mode": {
    "name": "ipython",
    "version": 3
   },
   "file_extension": ".py",
   "mimetype": "text/x-python",
   "name": "python",
   "nbconvert_exporter": "python",
   "pygments_lexer": "ipython3",
   "version": "3.9.12"
  }
 },
 "nbformat": 4,
 "nbformat_minor": 4
}
