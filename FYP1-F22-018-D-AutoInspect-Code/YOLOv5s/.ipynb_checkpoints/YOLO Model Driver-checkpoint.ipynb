{
 "cells": [
  {
   "cell_type": "code",
   "execution_count": 27,
   "id": "43071861",
   "metadata": {},
   "outputs": [],
   "source": [
    "# YOLOv5 PyTorch HUB Inference (DetectionModels only)\n",
    "from threading import local\n",
    "from unittest import result\n",
    "import torch\n",
    "import cv2\n",
    "from time import time\n",
    "import os\n",
    "from tkinter import *\n",
    "from tkinter import filedialog\n",
    "from tkinter.filedialog import askopenfile\n",
    "from PIL import Image, ImageTk"
   ]
  },
  {
   "cell_type": "code",
   "execution_count": 16,
   "id": "4d740c2e",
   "metadata": {},
   "outputs": [
    {
     "name": "stderr",
     "output_type": "stream",
     "text": [
      "Downloading: \"https://github.com/ultralytics/yolov5/zipball/master\" to C:\\Users\\saqib/.cache\\torch\\hub\\master.zip\n",
      "YOLOv5  2023-1-8 Python-3.9.12 torch-1.12.1+cpu CPU\n",
      "\n",
      "Fusing layers... \n",
      "Model summary: 157 layers, 7012822 parameters, 0 gradients, 15.8 GFLOPs\n",
      "Adding AutoShape... \n"
     ]
    }
   ],
   "source": [
    "model = torch.hub.load(\"ultralytics/yolov5\",  'custom', path='fine_tunned_YOLO.pt', force_reload=True)  # yolov5n - yolov5x6 or custom"
   ]
  },
  {
   "cell_type": "code",
   "execution_count": 18,
   "id": "2505f9c4",
   "metadata": {},
   "outputs": [
    {
     "name": "stdout",
     "output_type": "stream",
     "text": [
      "Faulty\n"
     ]
    }
   ],
   "source": [
    "results = model('defected.jpg')  # inference\n",
    "response=results.pandas().xyxy[0].to_json(orient=\"records\")  # JSON img1 predictions\n",
    "if len(response)==2:\n",
    "    print(\"Non-Faulty\")\n",
    "else :\n",
    "    print(\"Faulty\")"
   ]
  },
  {
   "cell_type": "code",
   "execution_count": 117,
   "id": "886ee46c",
   "metadata": {},
   "outputs": [],
   "source": [
    "def upload_file(image_gui1):\n",
    "    global img\n",
    "    f_types = [('jpg Files', '*.jpg')]\n",
    "    global filename\n",
    "    filename = filedialog.askopenfilename(filetypes=f_types)\n",
    "    img=Image.open(filename) # read the image file\n",
    "    img=img.resize((180,180)) # new width & height\n",
    "    img=ImageTk.PhotoImage(img)\n",
    "    e1 =Label(image_gui1)\n",
    "    e1.pack()\n",
    "    e1.image = img # keep a reference! by attaching it to a widget attribute\n",
    "    e1['image']=img # Show Image  \n",
    "    \n",
    "def print_sapce(x):\n",
    "    for y in range(0,x):\n",
    "        my_space=Label(text=\"\")\n",
    "        my_space.pack()\n",
    "        \n",
    "def print_text(x):\n",
    "    my_text=Label(text=x)\n",
    "    my_text.pack()"
   ]
  },
  {
   "cell_type": "code",
   "execution_count": 91,
   "id": "25b36916",
   "metadata": {},
   "outputs": [],
   "source": []
  },
  {
   "cell_type": "code",
   "execution_count": 123,
   "id": "bbb4cd04",
   "metadata": {},
   "outputs": [],
   "source": [
    "def intial_window():\n",
    "\n",
    "    image_gui1.geometry(\"700x500\")  # Size of the window \n",
    "    image_gui1.title('AutoInspect')\n",
    "    my_font1=('times', 18, 'bold')\n",
    "    \n",
    "    print_sapce(1)\n",
    "    image = Image.open('logo.png').resize((70, 70))\n",
    "    my_logo = ImageTk.PhotoImage(image)\n",
    "    lgo_label=Label(image=my_logo)\n",
    "    lgo_label.pack()\n",
    "    \n",
    "    company_label=Label(text=\"AutoInspect Demonstration\")\n",
    "    company_label.config(font=('Helvetica bold',15))\n",
    "    company_label.pack()\n",
    "\n",
    "\n",
    "    options = [\n",
    "        \"Pre-Trained YOLOv5          \",\n",
    "        \"Fine-Tunned YOLOv5          \"\n",
    "    ]\n",
    "    global clicked \n",
    "    clicked= StringVar()\n",
    "\n",
    "    print_sapce(1)\n",
    "    clicked.set( \"Select the model you want to apply ; \" )\n",
    "    drop = OptionMenu( image_gui1 , clicked , *options )\n",
    "    drop.pack()\n",
    "    \n",
    "    b1 = Button(image_gui1, text='Upload Image',width=20,command = lambda:upload_file(image_gui1))\n",
    "    b1.pack()\n",
    "    \n",
    "    \n",
    "\n",
    "    \n",
    "#     image_submission = Button(image_gui1,text =\"Apply Model ->\")\n",
    "#     image_submission.grid(row=5,column=1,columnspan=4)\n",
    "\n",
    "    image_gui1.mainloop()"
   ]
  },
  {
   "cell_type": "code",
   "execution_count": null,
   "id": "5578548b",
   "metadata": {},
   "outputs": [],
   "source": [
    "image_gui1= Tk()\n",
    "intial_window()"
   ]
  }
 ],
 "metadata": {
  "kernelspec": {
   "display_name": "Python 3 (ipykernel)",
   "language": "python",
   "name": "python3"
  },
  "language_info": {
   "codemirror_mode": {
    "name": "ipython",
    "version": 3
   },
   "file_extension": ".py",
   "mimetype": "text/x-python",
   "name": "python",
   "nbconvert_exporter": "python",
   "pygments_lexer": "ipython3",
   "version": "3.9.12"
  }
 },
 "nbformat": 4,
 "nbformat_minor": 5
}
