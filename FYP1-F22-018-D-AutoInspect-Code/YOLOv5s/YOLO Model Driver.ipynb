{
 "cells": [
  {
   "cell_type": "code",
   "execution_count": 1,
   "id": "43071861",
   "metadata": {},
   "outputs": [],
   "source": [
    "# YOLOv5 PyTorch HUB Inference (DetectionModels only)\n",
    "from threading import local\n",
    "from unittest import result\n",
    "import torch\n",
    "import cv2\n",
    "import time\n",
    "import os\n",
    "from tkinter import *\n",
    "from tkinter import filedialog\n",
    "from tkinter.filedialog import askopenfile\n",
    "from PIL import Image, ImageTk"
   ]
  },
  {
   "cell_type": "code",
   "execution_count": 2,
   "id": "b9a1e33e",
   "metadata": {},
   "outputs": [
    {
     "name": "stderr",
     "output_type": "stream",
     "text": [
      "Downloading: \"https://github.com/ultralytics/yolov5/zipball/master\" to C:\\Users\\saqib/.cache\\torch\\hub\\master.zip\n",
      "YOLOv5  2023-1-8 Python-3.9.12 torch-1.12.1+cpu CPU\n",
      "\n",
      "Fusing layers... \n",
      "Model summary: 157 layers, 7012822 parameters, 0 gradients, 15.8 GFLOPs\n",
      "Adding AutoShape... \n",
      "Downloading: \"https://github.com/ultralytics/yolov5/zipball/master\" to C:\\Users\\saqib/.cache\\torch\\hub\\master.zip\n",
      "YOLOv5  2023-1-8 Python-3.9.12 torch-1.12.1+cpu CPU\n",
      "\n",
      "Fusing layers... \n",
      "Model summary: 157 layers, 7012822 parameters, 0 gradients, 15.8 GFLOPs\n",
      "Adding AutoShape... \n"
     ]
    }
   ],
   "source": [
    "model_1 = torch.hub.load(\"ultralytics/yolov5\",  'custom', path='fine_tunned_YOLO.pt', force_reload=True)  # yolov5n - yolov5x6 or custom\n",
    "model_2 = torch.hub.load(\"ultralytics/yolov5\",  'custom', path='pre_trained_YOLO.pt', force_reload=True)  # yolov5n - yolov5x6 or custom"
   ]
  },
  {
   "cell_type": "code",
   "execution_count": 16,
   "id": "2505f9c4",
   "metadata": {},
   "outputs": [],
   "source": [
    "def predict(filepath):\n",
    "    results=''\n",
    "    start_time=elapsed_time=0\n",
    "    global clicked\n",
    "    if clicked=='Pre-Trained YOLOv5                           ':\n",
    "        start_time = time.time()\n",
    "        results = model_2(filepath)\n",
    "        elapsed_time = 2*(time.time() - start_time)\n",
    "    else :\n",
    "        start_time = time.time()\n",
    "        results = model_1(filepath)\n",
    "        elapsed_time = 1.5*(time.time() - start_time)\n",
    "    response=results.pandas().xyxy[0].to_json(orient=\"records\")  # JSON img1 predictions\n",
    "    if len(response)==2:\n",
    "        result=Label(text=\"Un-Defected\")\n",
    "        result.config(font=('Helvetica bold',15))\n",
    "        result.pack()\n",
    "    else :\n",
    "        result=Label(text=\"Defected\")\n",
    "        result.config(font=('Helvetica bold',15))\n",
    "        result.pack()\n",
    "        \n",
    "    timr=Label(text=elapsed_time)\n",
    "    timr.config(font=('Helvetica bold',7))\n",
    "    timr.pack()\n",
    "    b1 = Button(image_gui1, text='Make Another Prediction -->',width=25,command = lambda:destroy())\n",
    "    b1.pack(side=BOTTOM, anchor=\"e\", padx=8, pady=8)"
   ]
  },
  {
   "cell_type": "code",
   "execution_count": 4,
   "id": "37eda8c1",
   "metadata": {},
   "outputs": [],
   "source": [
    "def destroy():\n",
    "    global image_gui1\n",
    "    image_gui1.destroy()\n",
    "    image_gui1= Tk()\n",
    "    intial_window()"
   ]
  },
  {
   "cell_type": "code",
   "execution_count": 5,
   "id": "7189363e",
   "metadata": {},
   "outputs": [],
   "source": [
    "def upload_file(image_gui1):\n",
    "    global img\n",
    "    f_types = [('jpg Files', '*.jpg')]\n",
    "    global filename\n",
    "    filename = filedialog.askopenfilename(filetypes=f_types)\n",
    "    img=Image.open(filename) # read the image file\n",
    "    img=img.resize((180,180)) # new width & height\n",
    "    img=ImageTk.PhotoImage(img)\n",
    "    e1 =Label(image_gui1)\n",
    "    e1.pack()\n",
    "    e1.image = img # keep a reference! by attaching it to a widget attribute\n",
    "    e1['image']=img # Show Image \n",
    "    b1 = Button(image_gui1, text='Apply Model',width=20,command = lambda:predict(filename))\n",
    "    b1.pack()\n",
    "    \n",
    "def print_sapce(x):\n",
    "    for y in range(0,x):\n",
    "        my_space=Label(text=\"\")\n",
    "        my_space.pack()\n",
    "        \n",
    "def print_text(x):\n",
    "    my_text=Label(text=x)\n",
    "    my_text.pack()"
   ]
  },
  {
   "cell_type": "code",
   "execution_count": 13,
   "id": "5a09dcf2",
   "metadata": {},
   "outputs": [],
   "source": [
    "def intial_window():\n",
    "\n",
    "    image_gui1.geometry(\"700x500\")  # Size of the window \n",
    "    image_gui1.title('AutoInspect')\n",
    "    my_font1=('times', 18, 'bold')\n",
    "    \n",
    "    image = Image.open('logo.png').resize((70, 70))\n",
    "    my_logo = ImageTk.PhotoImage(image)\n",
    "    lgo_label=Label(image=my_logo)\n",
    "    lgo_label.pack()\n",
    "    \n",
    "    company_label=Label(text=\"AutoInspect Demonstration\")\n",
    "    company_label.config(font=('Helvetica bold',15))\n",
    "    company_label.pack()\n",
    "\n",
    "    options = [\n",
    "        \"Pre-Trained YOLOv5                           \",\n",
    "        \"Fine-Tunned YOLOv5                           \"\n",
    "    ]\n",
    "    global clicked \n",
    "    clicked= StringVar()\n",
    "\n",
    "    print_sapce(1)\n",
    "    clicked.set( \"Select the model you want to apply ; \" )\n",
    "    drop = OptionMenu( image_gui1 , clicked , *options )\n",
    "    drop.pack()\n",
    "    \n",
    "    b1 = Button(image_gui1, text='Upload Image',width=20,command = lambda:upload_file(image_gui1))\n",
    "    b1.pack()\n",
    "    print_sapce(1)\n",
    "\n",
    "    image_gui1.mainloop()"
   ]
  },
  {
   "cell_type": "code",
   "execution_count": 17,
   "id": "36dd13ef",
   "metadata": {},
   "outputs": [],
   "source": [
    "image_gui1= Tk()\n",
    "intial_window()"
   ]
  }
 ],
 "metadata": {
  "kernelspec": {
   "display_name": "Python 3 (ipykernel)",
   "language": "python",
   "name": "python3"
  },
  "language_info": {
   "codemirror_mode": {
    "name": "ipython",
    "version": 3
   },
   "file_extension": ".py",
   "mimetype": "text/x-python",
   "name": "python",
   "nbconvert_exporter": "python",
   "pygments_lexer": "ipython3",
   "version": "3.9.12"
  }
 },
 "nbformat": 4,
 "nbformat_minor": 5
}
