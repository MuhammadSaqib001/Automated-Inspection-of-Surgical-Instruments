{
 "cells": [
  {
   "cell_type": "code",
   "execution_count": 2,
   "id": "2bfcf5e5",
   "metadata": {},
   "outputs": [],
   "source": [
    "import json\n",
    "import os\n",
    "from flask import Flask,jsonify,request\n",
    "from flask_cors import CORS\n",
    "from predictor import defect_predictor"
   ]
  },
  {
   "cell_type": "code",
   "execution_count": 4,
   "id": "e12a3a57",
   "metadata": {},
   "outputs": [
    {
     "ename": "IndentationError",
     "evalue": "unindent does not match any outer indentation level (<tokenize>, line 13)",
     "output_type": "error",
     "traceback": [
      "\u001b[1;36m  File \u001b[1;32m<tokenize>:13\u001b[1;36m\u001b[0m\n\u001b[1;33m    return jsonify(price_dict)\u001b[0m\n\u001b[1;37m    ^\u001b[0m\n\u001b[1;31mIndentationError\u001b[0m\u001b[1;31m:\u001b[0m unindent does not match any outer indentation level\n"
     ]
    }
   ],
   "source": [
    "app = Flask(__name__)\n",
    "CORS(app)\n",
    "@app.route(\"/inference/\",methods=['GET'])\n",
    "def return_detection():\n",
    "    image = request.args.get('image')\n",
    "    class_prediction = defect_predictor.predict(image) \n",
    "    return class_prediction\n",
    "\n",
    "@app.route(\"/\",methods=['GET'])\n",
    "\n",
    "def default():\n",
    "    return \"<h1> Welcome to bitcoin price predictor <h1>\"\n",
    "\n",
    "if __name__ == \"__main__\":\n",
    "    app.run()"
   ]
  },
  {
   "cell_type": "code",
   "execution_count": null,
   "id": "24859750",
   "metadata": {},
   "outputs": [],
   "source": []
  }
 ],
 "metadata": {
  "kernelspec": {
   "display_name": "Python 3 (ipykernel)",
   "language": "python",
   "name": "python3"
  },
  "language_info": {
   "codemirror_mode": {
    "name": "ipython",
    "version": 3
   },
   "file_extension": ".py",
   "mimetype": "text/x-python",
   "name": "python",
   "nbconvert_exporter": "python",
   "pygments_lexer": "ipython3",
   "version": "3.9.12"
  }
 },
 "nbformat": 4,
 "nbformat_minor": 5
}
