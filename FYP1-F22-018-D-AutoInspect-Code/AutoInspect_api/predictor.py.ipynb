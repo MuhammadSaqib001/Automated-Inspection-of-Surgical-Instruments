{
 "cells": [
  {
   "cell_type": "code",
   "execution_count": 7,
   "id": "9fced081",
   "metadata": {},
   "outputs": [],
   "source": [
    "import pickle\n",
    "from matplotlib.pyplot import imread, imshow, imsave\n",
    "class defect_predictor():\n",
    "    def __init__(self):\n",
    "        pass\n",
    "\n",
    "    def deserialize(self):\n",
    "        with open('model.pkl', 'rb') as handle:\n",
    "            model = pickle.load(handle)\n",
    "        return model\n",
    "\n",
    "    def predict(self,image):\n",
    "        file_path='image.jpg'\n",
    "        model = self.deserialize()\n",
    "        imsave(image,'image.jpg')\n",
    "        return model.predict(file_path, confidence=30, overlap=30).json()"
   ]
  }
 ],
 "metadata": {
  "kernelspec": {
   "display_name": "Python 3 (ipykernel)",
   "language": "python",
   "name": "python3"
  },
  "language_info": {
   "codemirror_mode": {
    "name": "ipython",
    "version": 3
   },
   "file_extension": ".py",
   "mimetype": "text/x-python",
   "name": "python",
   "nbconvert_exporter": "python",
   "pygments_lexer": "ipython3",
   "version": "3.9.12"
  }
 },
 "nbformat": 4,
 "nbformat_minor": 5
}
