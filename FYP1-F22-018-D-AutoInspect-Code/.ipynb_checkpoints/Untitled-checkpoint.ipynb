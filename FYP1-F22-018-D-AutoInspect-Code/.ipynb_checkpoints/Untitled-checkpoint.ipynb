{
 "cells": [
  {
   "cell_type": "code",
   "execution_count": 1,
   "id": "c5b5ff22",
   "metadata": {},
   "outputs": [],
   "source": [
    "import pickle\n",
    "pickled_model = pickle.load(open('model.pkl', 'rb'))"
   ]
  },
  {
   "cell_type": "code",
   "execution_count": 4,
   "id": "3a94e033",
   "metadata": {},
   "outputs": [
    {
     "name": "stdout",
     "output_type": "stream",
     "text": [
      "{\n",
      "  \"x\": 422.5,\n",
      "  \"y\": 389.5,\n",
      "  \"width\": 53.0,\n",
      "  \"height\": 61.0,\n",
      "  \"confidence\": 0.8166431188583374,\n",
      "  \"class\": \"Defects\",\n",
      "  \"image_path\": \"C:/Users/saqib/defected.jpg\",\n",
      "  \"prediction_type\": \"ObjectDetectionModel\"\n",
      "}\n",
      "\n",
      "{\n",
      "  \"x\": 497.0,\n",
      "  \"y\": 345.5,\n",
      "  \"width\": 74.0,\n",
      "  \"height\": 33.0,\n",
      "  \"confidence\": 0.81560218334198,\n",
      "  \"class\": \"Defects\",\n",
      "  \"image_path\": \"C:/Users/saqib/defected.jpg\",\n",
      "  \"prediction_type\": \"ObjectDetectionModel\"\n",
      "}\n",
      "\n",
      "{\n",
      "  \"x\": 131.5,\n",
      "  \"y\": 517.0,\n",
      "  \"width\": 17.0,\n",
      "  \"height\": 10.0,\n",
      "  \"confidence\": 0.6364644169807434,\n",
      "  \"class\": \"Defects\",\n",
      "  \"image_path\": \"C:/Users/saqib/defected.jpg\",\n",
      "  \"prediction_type\": \"ObjectDetectionModel\"\n",
      "}\n",
      "\n",
      "{\n",
      "  \"x\": 59.0,\n",
      "  \"y\": 618.5,\n",
      "  \"width\": 14.0,\n",
      "  \"height\": 11.0,\n",
      "  \"confidence\": 0.3544086217880249,\n",
      "  \"class\": \"Defects\",\n",
      "  \"image_path\": \"C:/Users/saqib/defected.jpg\",\n",
      "  \"prediction_type\": \"ObjectDetectionModel\"\n",
      "}\n",
      "\n",
      "{\n",
      "  \"x\": 143.0,\n",
      "  \"y\": 517.5,\n",
      "  \"width\": 14.0,\n",
      "  \"height\": 11.0,\n",
      "  \"confidence\": 0.32563143968582153,\n",
      "  \"class\": \"Defects\",\n",
      "  \"image_path\": \"C:/Users/saqib/defected.jpg\",\n",
      "  \"prediction_type\": \"ObjectDetectionModel\"\n",
      "}\n",
      "\n",
      "\n"
     ]
    }
   ],
   "source": [
    "file_path=\"C:/Users/saqib/defected.jpg\"\n",
    "print(pickled_model.predict(file_path, confidence=30, overlap=30))"
   ]
  }
 ],
 "metadata": {
  "kernelspec": {
   "display_name": "Python 3 (ipykernel)",
   "language": "python",
   "name": "python3"
  },
  "language_info": {
   "codemirror_mode": {
    "name": "ipython",
    "version": 3
   },
   "file_extension": ".py",
   "mimetype": "text/x-python",
   "name": "python",
   "nbconvert_exporter": "python",
   "pygments_lexer": "ipython3",
   "version": "3.9.12"
  }
 },
 "nbformat": 4,
 "nbformat_minor": 5
}
