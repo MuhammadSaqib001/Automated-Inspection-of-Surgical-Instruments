{
 "cells": [
  {
   "cell_type": "code",
   "execution_count": 1,
   "id": "a228a405",
   "metadata": {},
   "outputs": [],
   "source": [
    "import os \n",
    "from sklearn.model_selection import train_test_split\n",
    "import matplotlib.pyplot as plt\n",
    "from matplotlib.pyplot import imread, imshow, imsave\n",
    "import numpy as np\n",
    "import matplotlib.pyplot as plt\n",
    "from roboflow import Roboflow\n",
    "import json\n",
    "import pickle"
   ]
  },
  {
   "cell_type": "code",
   "execution_count": 2,
   "id": "81ef63e0",
   "metadata": {},
   "outputs": [],
   "source": [
    "model_data=[\"psoBTUPXVd6Zhvh37J5P\",\"defect_detection-geufo\",7]\n",
    "# visualize your prediction\n",
    "# model.predict(\"your_image.jpg\", confidence=40, overlap=30).save(\"prediction.jpg\")"
   ]
  },
  {
   "cell_type": "code",
   "execution_count": 3,
   "id": "79b3f5ef",
   "metadata": {},
   "outputs": [],
   "source": [
    "def read_file(file_path):\n",
    "    img = imread(file_path)\n",
    "    return img\n",
    "\n",
    "def display_image(img,title='Image'):\n",
    "    plt.figure(figsize=[10,10])\n",
    "    channels=len(img.shape)\n",
    "    if channels<3:\n",
    "        plt.imshow(img,cmap='Greys_r');\n",
    "    else:\n",
    "        plt.imshow(img);      \n",
    "    plt.title(title);plt.axis(\"off\");\n",
    "    \n",
    "def load_model(model_data):\n",
    "    rf = Roboflow(api_key=model_data[0])\n",
    "    project = rf.workspace().project(model_data[1])\n",
    "    model = project.version(model_data[2]).model\n",
    "    pickle.dump(model, open('model.pkl', 'wb'))\n",
    "    return model\n",
    "\n",
    "def inference(model,file_path,confidence_thresh=30):\n",
    "    return model.predict(file_path, confidence=confidence_thresh, overlap=30).json()\n",
    "\n",
    "def prediction_jsonParse(response):\n",
    "    predict=response['predictions']\n",
    "    count=0\n",
    "    for x in range(len(predict)):\n",
    "        if predict[x]['class']=='Defects':\n",
    "            count+=1\n",
    "    return count"
   ]
  },
  {
   "cell_type": "code",
   "execution_count": 4,
   "id": "9b3dd61e",
   "metadata": {},
   "outputs": [
    {
     "name": "stdout",
     "output_type": "stream",
     "text": [
      "loading Roboflow workspace...\n",
      "loading Roboflow project...\n"
     ]
    }
   ],
   "source": [
    "yolo_model=load_model(model_data)"
   ]
  },
  {
   "cell_type": "code",
   "execution_count": 5,
   "id": "ec753fb4",
   "metadata": {},
   "outputs": [],
   "source": [
    "def isFaulty_yolobased(test_file_path,confidence=30):\n",
    "    response=inference(yolo_model,test_file_path,confidence)\n",
    "    count_defect=prediction_jsonParse(response)\n",
    "    return count_defect>0"
   ]
  },
  {
   "cell_type": "code",
   "execution_count": 7,
   "id": "87e611b5",
   "metadata": {},
   "outputs": [
    {
     "ename": "SyntaxError",
     "evalue": "(unicode error) 'unicodeescape' codec can't decode bytes in position 2-3: truncated \\UXXXXXXXX escape (3983043880.py, line 1)",
     "output_type": "error",
     "traceback": [
      "\u001b[1;36m  Input \u001b[1;32mIn [7]\u001b[1;36m\u001b[0m\n\u001b[1;33m    file_path=\"C:\\Users\\saqib\\defected.jpg\"\u001b[0m\n\u001b[1;37m                                           ^\u001b[0m\n\u001b[1;31mSyntaxError\u001b[0m\u001b[1;31m:\u001b[0m (unicode error) 'unicodeescape' codec can't decode bytes in position 2-3: truncated \\UXXXXXXXX escape\n"
     ]
    }
   ],
   "source": [
    "file_path=\"C:/Users/saqib/defected.jpg\"\n",
    "display_image(read_file(file_path))\n",
    "print(isFaulty_yolobased(file_path,confidence=25))"
   ]
  },
  {
   "cell_type": "code",
   "execution_count": null,
   "id": "9faf738d",
   "metadata": {},
   "outputs": [],
   "source": [
    "file_path=\"C:/Users/saqib/OneDrive/Desktop/defects_data/ (9).jpeg\"\n",
    "display_image(read_file(file_path))\n",
    "print(isFaulty_yolobased(file_path,confidence=25))"
   ]
  }
 ],
 "metadata": {
  "kernelspec": {
   "display_name": "Python 3 (ipykernel)",
   "language": "python",
   "name": "python3"
  },
  "language_info": {
   "codemirror_mode": {
    "name": "ipython",
    "version": 3
   },
   "file_extension": ".py",
   "mimetype": "text/x-python",
   "name": "python",
   "nbconvert_exporter": "python",
   "pygments_lexer": "ipython3",
   "version": "3.9.12"
  }
 },
 "nbformat": 4,
 "nbformat_minor": 5
}
